{
 "cells": [
  {
   "cell_type": "code",
   "execution_count": 1,
   "id": "b490b340",
   "metadata": {},
   "outputs": [
    {
     "name": "stderr",
     "output_type": "stream",
     "text": [
      "<frozen importlib._bootstrap>:228: RuntimeWarning: scipy._lib.messagestream.MessageStream size changed, may indicate binary incompatibility. Expected 56 from C header, got 64 from PyObject\n"
     ]
    }
   ],
   "source": [
    "import sys\n",
    "sys.path.insert(0, '../../')\n",
    "import numpy as np\n",
    "import pandas as pd\n",
    "from scipy.stats import norm\n",
    "\n",
    "from kernels.nn import ImplicitDenseNetKernel\n",
    "from model.ick import ICK\n",
    "from model.ick_cmgp import ICK_CMGP\n",
    "from utils.train import CMGPEnsembleTrainer\n",
    "from utils.helpers import *\n",
    "\n",
    "# To make this notebook's output stable across runs\n",
    "np.random.seed(2020)\n",
    "torch.manual_seed(2020)\n",
    "torch.cuda.manual_seed(2020)\n",
    "torch.cuda.manual_seed_all(2020)\n",
    "torch.backends.cudnn.deterministic = True\n",
    "torch.backends.cudnn.benchmark = False"
   ]
  },
  {
   "cell_type": "markdown",
   "id": "65853c21",
   "metadata": {},
   "source": [
    "# 1. Load IHDP data"
   ]
  },
  {
   "cell_type": "code",
   "execution_count": 2,
   "id": "2870e085",
   "metadata": {},
   "outputs": [],
   "source": [
    "# Load data repetition function\n",
    "def load_data_rep(data_train, data_test, i):\n",
    "    # Training data\n",
    "    X_train = data_train['x'][:, :, i]\n",
    "    T_train = data_train['t'][:, i:i + 1]\n",
    "    Y_train = data_train['yf'][:, i:i + 1]\n",
    "    mu0_train = data_train['mu0'][:, i:i + 1]  # mu0 is the mean of control outcome\n",
    "    mu1_train = data_train['mu1'][:, i:i + 1]  # mu1 is the mean of treatment outcome\n",
    "    \n",
    "    # Test data\n",
    "    X_test = data_test['x'][:, :, i]\n",
    "    T_test = data_test['t'][:, i:i + 1]\n",
    "    Y0_test = data_test['yf'][:, i:i + 1] * (1.0 - data_test['t'][:, i:i + 1])  # Y0 is the outcome for control\n",
    "    Y0_test += data_test['ycf'][:, i:i + 1] * data_test['t'][:, i:i + 1]\n",
    "    Y1_test = data_test['ycf'][:, i:i + 1] * (1.0 - data_test['t'][:, i:i + 1])  # Y1 is the outcome for treatment\n",
    "    Y1_test += data_test['yf'][:, i:i + 1] * data_test['t'][:, i:i + 1]\n",
    "    mu0_test = data_test['mu0'][:, i:i + 1]\n",
    "    mu1_test = data_test['mu1'][:, i:i + 1]\n",
    "    \n",
    "    # Log-likelihood\n",
    "    ll_test = np.mean(np.log(norm.cdf(Y0_test - mu0_test + 0.5) - norm.cdf(Y0_test - mu0_test - 0.5))) + \\\n",
    "    np.mean(np.log(norm.cdf(Y1_test - mu1_test + 0.5) - norm.cdf(Y1_test - mu1_test - 0.5)))\n",
    "    \n",
    "    # Return data\n",
    "    return X_train, T_train, Y_train, mu0_train, mu1_train, X_test, \\\n",
    "    T_test, Y0_test, Y1_test, mu0_test, mu1_test, ll_test\n",
    "\n",
    "data_train = np.load('../../data/IHDP/ihdp_npci_1-100.train.npz', allow_pickle=True)\n",
    "data_test = np.load('../../data/IHDP/ihdp_npci_1-100.test.npz', allow_pickle=True)\n",
    "\n",
    "X_train, T_train, Y_train, mu0_train, mu1_train, X_test, T_test, \\\n",
    "Y0_test, Y1_test, mu0_test, mu1_test, ll_test = load_data_rep(\n",
    "    data_train=data_train,\n",
    "    data_test=data_test,\n",
    "    i=0)\n",
    "mu_test = mu1_test - mu0_test\n",
    "\n",
    "# Define dataset and dataloaders\n",
    "data_train = [X_train, T_train]\n",
    "data_test = [X_test, T_test]\n",
    "Y_test = np.concatenate((Y0_test, Y1_test), axis=1)[range(len(Y0_test)),T_test.astype(np.int32).reshape(-1)].reshape(-1,1)\n",
    "data_generators = create_generators_from_data(data_train, Y_train, data_test, Y_test)"
   ]
  },
  {
   "cell_type": "markdown",
   "id": "04ba6915",
   "metadata": {},
   "source": [
    "# 2. Define ICK-CMGP model"
   ]
  },
  {
   "cell_type": "markdown",
   "id": "5074462a",
   "metadata": {},
   "source": [
    "\\begin{align*}\n",
    "&f_1^1, f_2^1, f_3^1 \\sim K_1 \\\\\n",
    "&f_1^2, f_2^2, f_3^2 \\sim K_2 \\\\\n",
    "&Y_0(x) = \\alpha_1^1 f_1^1(x) + \\alpha_3^1 f_3^1(x) + 0 + \\alpha_1^2 f_1^2(x) + \\alpha_3^2 f_3^2(x) + 0 \\\\\n",
    "&Y_1(x) = 0 + \\alpha_2^1 f_2^1(x) + \\alpha_3^1 f_3^1(x) + 0 + \\alpha_2^2 f_2^2(x) + \\alpha_3^2 f_3^2(x)\n",
    "\\end{align*}"
   ]
  },
  {
   "cell_type": "code",
   "execution_count": 3,
   "id": "549f4570",
   "metadata": {},
   "outputs": [],
   "source": [
    "alpha11, alpha12, alpha13 = 1.0, 1.0, 1.0\n",
    "alpha21, alpha22, alpha23 = 1.0, 1.0, 1.0\n",
    "num_estimators = 10\n",
    "\n",
    "ensemble = []\n",
    "for _ in range(num_estimators):\n",
    "    f11 = ICK(\n",
    "        kernel_assignment=['ImplicitDenseNetKernel'],\n",
    "        kernel_params={\n",
    "            'ImplicitDenseNetKernel':{\n",
    "                'input_dim': X_train.shape[1],\n",
    "                'latent_feature_dim': 512,\n",
    "                'num_blocks': 1, \n",
    "                'num_layers_per_block': 1, \n",
    "                'num_units': 512, \n",
    "                'activation': 'softplus'\n",
    "            }\n",
    "        }\n",
    "    )\n",
    "    f12 = ICK(\n",
    "        kernel_assignment=['ImplicitDenseNetKernel'],\n",
    "        kernel_params={\n",
    "            'ImplicitDenseNetKernel':{\n",
    "                'input_dim': X_train.shape[1],\n",
    "                'latent_feature_dim': 512,\n",
    "                'num_blocks': 1, \n",
    "                'num_layers_per_block': 1, \n",
    "                'num_units': 512, \n",
    "                'activation': 'softplus'\n",
    "            }\n",
    "        }\n",
    "    )\n",
    "    f13 = ICK(\n",
    "        kernel_assignment=['ImplicitDenseNetKernel'],\n",
    "        kernel_params={\n",
    "            'ImplicitDenseNetKernel':{\n",
    "                'input_dim': X_train.shape[1],\n",
    "                'latent_feature_dim': 512,\n",
    "                'num_blocks': 1, \n",
    "                'num_layers_per_block': 1, \n",
    "                'num_units': 512, \n",
    "                'activation': 'softplus'\n",
    "            }\n",
    "        }\n",
    "    )\n",
    "    f21 = ICK(\n",
    "        kernel_assignment=['ImplicitDenseNetKernel'],\n",
    "        kernel_params={\n",
    "            'ImplicitDenseNetKernel':{\n",
    "                'input_dim': X_train.shape[1],\n",
    "                'latent_feature_dim': 512,\n",
    "                'num_blocks': 1, \n",
    "                'num_layers_per_block': 1, \n",
    "                'num_units': 512, \n",
    "                'activation': 'softplus'\n",
    "            }\n",
    "        }\n",
    "    )\n",
    "    f22 = ICK(\n",
    "        kernel_assignment=['ImplicitDenseNetKernel'],\n",
    "        kernel_params={\n",
    "            'ImplicitDenseNetKernel':{\n",
    "                'input_dim': X_train.shape[1],\n",
    "                'latent_feature_dim': 512,\n",
    "                'num_blocks': 1, \n",
    "                'num_layers_per_block': 1, \n",
    "                'num_units': 512, \n",
    "                'activation': 'softplus'\n",
    "            }\n",
    "        }\n",
    "    )\n",
    "    f23 = ICK(\n",
    "        kernel_assignment=['ImplicitDenseNetKernel'],\n",
    "        kernel_params={\n",
    "            'ImplicitDenseNetKernel':{\n",
    "                'input_dim': X_train.shape[1],\n",
    "                'latent_feature_dim': 512,\n",
    "                'num_blocks': 1, \n",
    "                'num_layers_per_block': 1, \n",
    "                'num_units': 512, \n",
    "                'activation': 'softplus'\n",
    "            }\n",
    "        }\n",
    "    )\n",
    "#     f11.kernels[0].reset_parameters_normal(w_std=np.sqrt(0.1),b_std=np.sqrt(0.1))\n",
    "#     f12.kernels[0].reset_parameters_normal(w_std=np.sqrt(0.1),b_std=np.sqrt(0.1))\n",
    "#     f13.kernels[0].reset_parameters_normal(w_std=np.sqrt(0.1),b_std=np.sqrt(0.1))\n",
    "#     f21.kernels[0].reset_parameters_normal(w_std=np.sqrt(0.2),b_std=np.sqrt(0.2))\n",
    "#     f22.kernels[0].reset_parameters_normal(w_std=np.sqrt(0.2),b_std=np.sqrt(0.2))\n",
    "#     f23.kernels[0].reset_parameters_normal(w_std=np.sqrt(0.2),b_std=np.sqrt(0.2))\n",
    "    baselearner = ICK_CMGP(\n",
    "        control_components=[f11,f21], treatment_components=[f12,f22], shared_components=[f13,f23],\n",
    "        control_coeffs=[alpha11,alpha21], treatment_coeffs=[alpha12,alpha22], shared_coeffs=[alpha13,alpha23], \n",
    "        coeff_trainable=True\n",
    "    )\n",
    "    ensemble.append(baselearner)"
   ]
  },
  {
   "cell_type": "markdown",
   "id": "1fa8c68d",
   "metadata": {},
   "source": [
    "# 3. Training and evaluation of ICK-CMGP model"
   ]
  },
  {
   "cell_type": "code",
   "execution_count": null,
   "id": "65d0d3a3",
   "metadata": {},
   "outputs": [],
   "source": [
    "device = torch.device(\"cuda\" if torch.cuda.is_available() else \"cpu\")\n",
    "optim = 'sgd'\n",
    "optim_params = {\n",
    "    'lr': 1e-4, \n",
    "    'momentum': 0.99,\n",
    "    'weight_decay': 1e-3\n",
    "}\n",
    "epochs, patience = 1000, 10\n",
    "trainer = CMGPEnsembleTrainer(\n",
    "    model=ensemble,\n",
    "    data_generators=data_generators,\n",
    "    optim=optim,\n",
    "    optim_params=optim_params, \n",
    "    model_save_dir=None,\n",
    "    device=device,\n",
    "    epochs=epochs,\n",
    "    patience=patience, \n",
    "    treatment_index=1   # The index of \"T_train\" in \"data_train\" is 1\n",
    ")\n",
    "trainer.train()"
   ]
  },
  {
   "cell_type": "code",
   "execution_count": 5,
   "id": "6ccc1616",
   "metadata": {},
   "outputs": [
    {
     "name": "stdout",
     "output_type": "stream",
     "text": [
      "PEHE:             0.9260\n"
     ]
    }
   ],
   "source": [
    "mean_test_pred, std_test_pred, y_test_true = trainer.predict()\n",
    "mu_test_pred = mean_test_pred[:,1] - mean_test_pred[:,0]\n",
    "\n",
    "# PEHE\n",
    "pehe_test = np.sqrt(np.mean((mu_test_pred - mu_test) ** 2))\n",
    "print('PEHE:             %.4f' % (pehe_test))"
   ]
  },
  {
   "cell_type": "markdown",
   "id": "15ed4672",
   "metadata": {},
   "source": [
    "# 4. Apply original CMGP framework on the same dataset"
   ]
  },
  {
   "cell_type": "code",
   "execution_count": 9,
   "id": "38018857",
   "metadata": {},
   "outputs": [
    {
     "name": "stdout",
     "output_type": "stream",
     "text": [
      "PEHE:             0.2566\n"
     ]
    }
   ],
   "source": [
    "import GPy\n",
    "from benchmarks.cmgp_modified import CMGP\n",
    "\n",
    "K0 = GPy.kern.MLP(X_train.shape[1], weight_variance=0.1, bias_variance=0.1, ARD=False)\n",
    "K1 = GPy.kern.MLP(X_train.shape[1], weight_variance=0.2, bias_variance=0.2, ARD=False)\n",
    "cmgp_model = CMGP(X_train, T_train, Y_train, kernels=[K0,K1], initialize_params=False)\n",
    "mu0_test_pred, mu1_test_pred = cmgp_model.predict(X_test, return_var=False)\n",
    "mu_test_pred = mu1_test_pred - mu0_test_pred\n",
    "\n",
    "# PEHE\n",
    "pehe_test = np.sqrt(np.mean((mu_test_pred - mu_test) ** 2))\n",
    "print('PEHE:             %.4f' % (pehe_test))"
   ]
  },
  {
   "cell_type": "code",
   "execution_count": 10,
   "id": "92e0ad0e",
   "metadata": {},
   "outputs": [
    {
     "name": "stdout",
     "output_type": "stream",
     "text": [
      "PEHE:             0.2438\n"
     ]
    }
   ],
   "source": [
    "cmgp_model = CMGP(X_train, T_train, Y_train)\n",
    "mu0_test_pred, mu1_test_pred = cmgp_model.predict(X_test, return_var=False)\n",
    "mu_test_pred = mu1_test_pred - mu0_test_pred\n",
    "\n",
    "# PEHE\n",
    "pehe_test = np.sqrt(np.mean((mu_test_pred - mu_test) ** 2))\n",
    "print('PEHE:             %.4f' % (pehe_test))"
   ]
  }
 ],
 "metadata": {
  "kernelspec": {
   "display_name": "Python 3 (ipykernel)",
   "language": "python",
   "name": "python3"
  },
  "language_info": {
   "codemirror_mode": {
    "name": "ipython",
    "version": 3
   },
   "file_extension": ".py",
   "mimetype": "text/x-python",
   "name": "python",
   "nbconvert_exporter": "python",
   "pygments_lexer": "ipython3",
   "version": "3.9.10"
  }
 },
 "nbformat": 4,
 "nbformat_minor": 5
}
