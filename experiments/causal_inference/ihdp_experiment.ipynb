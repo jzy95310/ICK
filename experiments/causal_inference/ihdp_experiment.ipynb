{
 "cells": [
  {
   "cell_type": "code",
   "execution_count": 1,
   "id": "b490b340",
   "metadata": {},
   "outputs": [
    {
     "name": "stderr",
     "output_type": "stream",
     "text": [
      "<frozen importlib._bootstrap>:228: RuntimeWarning: scipy._lib.messagestream.MessageStream size changed, may indicate binary incompatibility. Expected 56 from C header, got 64 from PyObject\n"
     ]
    }
   ],
   "source": [
    "import sys\n",
    "sys.path.insert(0, '../../')\n",
    "import argparse\n",
    "import numpy as np\n",
    "import pandas as pd\n",
    "from scipy.stats import norm\n",
    "\n",
    "from kernels.nn import ImplicitDenseNetKernel\n",
    "from model.ick import ICK, AdditiveICK\n",
    "from utils.train import EnsembleTrainer\n",
    "from utils.helpers import *\n",
    "\n",
    "# To make this notebook's output stable across runs\n",
    "np.random.seed(2020)\n",
    "torch.manual_seed(2020)\n",
    "torch.cuda.manual_seed(2020)\n",
    "torch.cuda.manual_seed_all(2020)\n",
    "torch.backends.cudnn.deterministic = True"
   ]
  },
  {
   "cell_type": "markdown",
   "id": "65853c21",
   "metadata": {},
   "source": [
    "# 1. Load IHDP data"
   ]
  },
  {
   "cell_type": "code",
   "execution_count": 2,
   "id": "2870e085",
   "metadata": {},
   "outputs": [],
   "source": [
    "# Load data repetition function\n",
    "def load_data_rep(data_train, data_test, i):\n",
    "    # Training data\n",
    "    X_train = data_train['x'][:, :, i]\n",
    "    T_train = data_train['t'][:, i:i + 1]\n",
    "    Y_train = data_train['yf'][:, i:i + 1]\n",
    "    mu0_train = data_train['mu0'][:, i:i + 1]  # mu0 is the mean of control outcome\n",
    "    mu1_train = data_train['mu1'][:, i:i + 1]  # mu1 is the mean of treatment outcome\n",
    "    \n",
    "    # Test data\n",
    "    X_test = data_test['x'][:, :, i]\n",
    "    T_test = data_test['t'][:, i:i + 1]\n",
    "    Y0_test = data_test['yf'][:, i:i + 1] * (1.0 - data_test['t'][:, i:i + 1])  # Y0 is the outcome for control\n",
    "    Y0_test += data_test['ycf'][:, i:i + 1] * data_test['t'][:, i:i + 1]\n",
    "    Y1_test = data_test['ycf'][:, i:i + 1] * (1.0 - data_test['t'][:, i:i + 1])  # Y1 is the outcome for treatment\n",
    "    Y1_test += data_test['yf'][:, i:i + 1] * data_test['t'][:, i:i + 1]\n",
    "    mu0_test = data_test['mu0'][:, i:i + 1]\n",
    "    mu1_test = data_test['mu1'][:, i:i + 1]\n",
    "    \n",
    "    # Log-likelihood\n",
    "    ll_test = np.mean(np.log(norm.cdf(Y0_test - mu0_test + 0.5) - norm.cdf(Y0_test - mu0_test - 0.5))) + \\\n",
    "    np.mean(np.log(norm.cdf(Y1_test - mu1_test + 0.5) - norm.cdf(Y1_test - mu1_test - 0.5)))\n",
    "    \n",
    "    # Return data\n",
    "    return X_train, T_train, Y_train, mu0_train, mu1_train, X_test, \\\n",
    "    T_test, Y0_test, Y1_test, mu0_test, mu1_test, ll_test\n",
    "\n",
    "data_train = np.load('../../data/ihdp_npci_1-100.train.npz', allow_pickle=True)\n",
    "data_test = np.load('../../data/ihdp_npci_1-100.test.npz', allow_pickle=True)\n",
    "\n",
    "X_train, T_train, Y_train, mu0_train, mu1_train, X_test, T_test, \\\n",
    "Y0_test, Y1_test, mu0_test, mu1_test, ll_test = load_data_rep(\n",
    "    data_train=data_train,\n",
    "    data_test=data_test,\n",
    "    i=0)\n",
    "mu_test = mu1_test - mu0_test\n",
    "\n",
    "# Define dataset and dataloaders\n",
    "train_df = pd.DataFrame(X_train)\n",
    "train_df[\"Y\"] = Y_train\n",
    "train_df[\"T\"] = T_train\n",
    "X0_train = train_df[train_df[\"T\"]==0.0].iloc[:,0:X_train.shape[1]].to_numpy()\n",
    "Y0_train = train_df[train_df[\"T\"]==0.0][\"Y\"].to_numpy()\n",
    "X1_train = train_df[train_df[\"T\"]==1.0].iloc[:,0:X_train.shape[1]].to_numpy()\n",
    "Y1_train = train_df[train_df[\"T\"]==1.0][\"Y\"].to_numpy()\n",
    "data_generators_Y0 = create_generators_from_data(X0_train, Y0_train, X_test, Y0_test)\n",
    "data_generators_Y1 = create_generators_from_data(X1_train, Y1_train, X_test, Y1_test)"
   ]
  },
  {
   "cell_type": "markdown",
   "id": "04ba6915",
   "metadata": {},
   "source": [
    "# 2. Define ICK-CMGP model"
   ]
  },
  {
   "cell_type": "markdown",
   "id": "5074462a",
   "metadata": {},
   "source": [
    "$Y_0(x) = \\alpha_1 f_1(x) + \\alpha_2 f_2(x) + 0 \\\\$\n",
    "$Y_1(x) = 0 + \\alpha_2 f_2(x) + \\alpha_3 f_3(x)$"
   ]
  },
  {
   "cell_type": "code",
   "execution_count": 3,
   "id": "549f4570",
   "metadata": {},
   "outputs": [],
   "source": [
    "# Y0(x) = alpha1 * f1(x) + alpha2 * f2(x) + 0 * f3(x)\n",
    "# Y1(x) = 0 * f1(x) + alpha2 * f2(x) + alpha3 * f3(x)\n",
    "alpha1, alpha2, alpha3 = 0.25, 0.5, 0.25\n",
    "f1 = ICK(\n",
    "    kernel_assignment=['ImplicitDenseNetKernel'],\n",
    "    kernel_params={\n",
    "        'ImplicitDenseNetKernel':{\n",
    "            'input_dim': X_train.shape[1],\n",
    "            'latent_feature_dim': 16,\n",
    "            'num_blocks': 1, \n",
    "            'num_layers_per_block': 1, \n",
    "            'num_units': 64\n",
    "        }\n",
    "    }\n",
    ")\n",
    "f2 = ICK(\n",
    "    kernel_assignment=['ImplicitDenseNetKernel'],\n",
    "    kernel_params={\n",
    "        'ImplicitDenseNetKernel':{\n",
    "            'input_dim': X_train.shape[1],\n",
    "            'latent_feature_dim': 16,\n",
    "            'num_blocks': 2, \n",
    "            'num_layers_per_block': 1, \n",
    "            'num_units': 64\n",
    "        }\n",
    "    }\n",
    ")\n",
    "f3 = ICK(\n",
    "    kernel_assignment=['ImplicitDenseNetKernel'],\n",
    "    kernel_params={\n",
    "        'ImplicitDenseNetKernel':{\n",
    "            'input_dim': X_train.shape[1],\n",
    "            'latent_feature_dim': 16,\n",
    "            'num_blocks': 1, \n",
    "            'num_layers_per_block': 1, \n",
    "            'num_units': 64\n",
    "        }\n",
    "    }\n",
    ")\n",
    "num_estimators = 100\n",
    "ensemble_Y0 = [AdditiveICK(\n",
    "    components=[f1,f2], \n",
    "    component_assignment=[[0],[0]], \n",
    "    coeffs=[alpha1,alpha2], \n",
    "    weighted=[False,False]\n",
    ") for _ in range(num_estimators)]\n",
    "ensemble_Y1 = [AdditiveICK(\n",
    "    components=[f2,f3], \n",
    "    component_assignment=[[0],[0]], \n",
    "    coeffs=[alpha2,alpha3], \n",
    "    weighted=[False,False]\n",
    ") for _ in range(num_estimators)]"
   ]
  },
  {
   "cell_type": "code",
   "execution_count": 4,
   "id": "65d0d3a3",
   "metadata": {},
   "outputs": [
    {
     "name": "stdout",
     "output_type": "stream",
     "text": [
      "Training started:\n",
      "\n",
      "Epoch 1/200\n",
      "Learning rate: 0.000001\n"
     ]
    },
    {
     "name": "stderr",
     "output_type": "stream",
     "text": [
      "[Parallel(n_jobs=1)]: Using backend SequentialBackend with 1 concurrent workers.\n"
     ]
    },
    {
     "name": "stdout",
     "output_type": "stream",
     "text": [
      "Training time - 1s - loss 6.9504\n",
      "Validation:\n",
      "0s - loss 4.2275\n",
      "\n",
      "Epoch 2/200\n",
      "Learning rate: 0.000001\n"
     ]
    },
    {
     "name": "stderr",
     "output_type": "stream",
     "text": [
      "[Parallel(n_jobs=1)]: Done 100 out of 100 | elapsed:    1.4s finished\n",
      "[Parallel(n_jobs=1)]: Using backend SequentialBackend with 1 concurrent workers.\n"
     ]
    },
    {
     "name": "stdout",
     "output_type": "stream",
     "text": [
      "Training time - 1s - loss 3.8035\n",
      "Validation:\n",
      "0s - loss 2.0110\n",
      "\n",
      "Epoch 3/200\n",
      "Learning rate: 0.000001\n"
     ]
    },
    {
     "name": "stderr",
     "output_type": "stream",
     "text": [
      "[Parallel(n_jobs=1)]: Done 100 out of 100 | elapsed:    1.4s finished\n",
      "[Parallel(n_jobs=1)]: Using backend SequentialBackend with 1 concurrent workers.\n"
     ]
    },
    {
     "name": "stdout",
     "output_type": "stream",
     "text": [
      "Training time - 1s - loss 2.3645\n",
      "Validation:\n",
      "0s - loss 1.6204\n",
      "\n",
      "Epoch 4/200\n",
      "Learning rate: 0.000001\n"
     ]
    },
    {
     "name": "stderr",
     "output_type": "stream",
     "text": [
      "[Parallel(n_jobs=1)]: Done 100 out of 100 | elapsed:    1.4s finished\n",
      "[Parallel(n_jobs=1)]: Using backend SequentialBackend with 1 concurrent workers.\n"
     ]
    },
    {
     "name": "stdout",
     "output_type": "stream",
     "text": [
      "Training time - 1s - loss 2.0879\n",
      "Validation:\n",
      "0s - loss 1.5996\n",
      "\n",
      "Epoch 5/200\n",
      "Learning rate: 0.000001\n"
     ]
    },
    {
     "name": "stderr",
     "output_type": "stream",
     "text": [
      "[Parallel(n_jobs=1)]: Done 100 out of 100 | elapsed:    1.4s finished\n",
      "[Parallel(n_jobs=1)]: Using backend SequentialBackend with 1 concurrent workers.\n"
     ]
    },
    {
     "name": "stdout",
     "output_type": "stream",
     "text": [
      "Training time - 1s - loss 2.0004\n",
      "Validation:\n",
      "0s - loss 1.5363\n",
      "\n",
      "Epoch 6/200\n",
      "Learning rate: 0.000001\n"
     ]
    },
    {
     "name": "stderr",
     "output_type": "stream",
     "text": [
      "[Parallel(n_jobs=1)]: Done 100 out of 100 | elapsed:    1.4s finished\n",
      "[Parallel(n_jobs=1)]: Using backend SequentialBackend with 1 concurrent workers.\n"
     ]
    },
    {
     "name": "stdout",
     "output_type": "stream",
     "text": [
      "Training time - 1s - loss 1.9179\n",
      "Validation:\n",
      "0s - loss 1.4647\n",
      "\n",
      "Epoch 7/200\n",
      "Learning rate: 0.000001\n"
     ]
    },
    {
     "name": "stderr",
     "output_type": "stream",
     "text": [
      "[Parallel(n_jobs=1)]: Done 100 out of 100 | elapsed:    1.4s finished\n",
      "[Parallel(n_jobs=1)]: Using backend SequentialBackend with 1 concurrent workers.\n"
     ]
    },
    {
     "name": "stdout",
     "output_type": "stream",
     "text": [
      "Training time - 1s - loss 1.8447\n",
      "Validation:\n",
      "0s - loss 1.4087\n",
      "\n",
      "Epoch 8/200\n",
      "Learning rate: 0.000001\n"
     ]
    },
    {
     "name": "stderr",
     "output_type": "stream",
     "text": [
      "[Parallel(n_jobs=1)]: Done 100 out of 100 | elapsed:    1.4s finished\n",
      "[Parallel(n_jobs=1)]: Using backend SequentialBackend with 1 concurrent workers.\n"
     ]
    },
    {
     "name": "stdout",
     "output_type": "stream",
     "text": [
      "Training time - 1s - loss 1.7791\n",
      "Validation:\n",
      "0s - loss 1.3635\n",
      "\n",
      "Epoch 9/200\n",
      "Learning rate: 0.000001\n"
     ]
    },
    {
     "name": "stderr",
     "output_type": "stream",
     "text": [
      "[Parallel(n_jobs=1)]: Done 100 out of 100 | elapsed:    1.4s finished\n",
      "[Parallel(n_jobs=1)]: Using backend SequentialBackend with 1 concurrent workers.\n"
     ]
    },
    {
     "name": "stdout",
     "output_type": "stream",
     "text": [
      "Training time - 1s - loss 1.7199\n",
      "Validation:\n",
      "0s - loss 1.3232\n",
      "\n",
      "Epoch 10/200\n",
      "Learning rate: 0.000001\n"
     ]
    },
    {
     "name": "stderr",
     "output_type": "stream",
     "text": [
      "[Parallel(n_jobs=1)]: Done 100 out of 100 | elapsed:    1.4s finished\n",
      "[Parallel(n_jobs=1)]: Using backend SequentialBackend with 1 concurrent workers.\n"
     ]
    },
    {
     "name": "stdout",
     "output_type": "stream",
     "text": [
      "Training time - 1s - loss 1.6674\n",
      "Validation:\n",
      "0s - loss 1.2865\n",
      "\n",
      "Epoch 11/200\n",
      "Learning rate: 0.000001\n"
     ]
    },
    {
     "name": "stderr",
     "output_type": "stream",
     "text": [
      "[Parallel(n_jobs=1)]: Done 100 out of 100 | elapsed:    1.4s finished\n",
      "[Parallel(n_jobs=1)]: Using backend SequentialBackend with 1 concurrent workers.\n"
     ]
    },
    {
     "name": "stdout",
     "output_type": "stream",
     "text": [
      "Training time - 1s - loss 1.6204\n",
      "Validation:\n",
      "0s - loss 1.2561\n",
      "\n",
      "Epoch 12/200\n",
      "Learning rate: 0.000001\n"
     ]
    },
    {
     "name": "stderr",
     "output_type": "stream",
     "text": [
      "[Parallel(n_jobs=1)]: Done 100 out of 100 | elapsed:    1.4s finished\n",
      "[Parallel(n_jobs=1)]: Using backend SequentialBackend with 1 concurrent workers.\n"
     ]
    },
    {
     "name": "stdout",
     "output_type": "stream",
     "text": [
      "Training time - 1s - loss 1.5779\n",
      "Validation:\n",
      "0s - loss 1.2278\n",
      "\n",
      "Epoch 13/200\n",
      "Learning rate: 0.000001\n"
     ]
    },
    {
     "name": "stderr",
     "output_type": "stream",
     "text": [
      "[Parallel(n_jobs=1)]: Done 100 out of 100 | elapsed:    1.4s finished\n",
      "[Parallel(n_jobs=1)]: Using backend SequentialBackend with 1 concurrent workers.\n"
     ]
    },
    {
     "name": "stdout",
     "output_type": "stream",
     "text": [
      "Training time - 1s - loss 1.5400\n",
      "Validation:\n",
      "0s - loss 1.2025\n",
      "\n",
      "Epoch 14/200\n",
      "Learning rate: 0.000001\n"
     ]
    },
    {
     "name": "stderr",
     "output_type": "stream",
     "text": [
      "[Parallel(n_jobs=1)]: Done 100 out of 100 | elapsed:    1.4s finished\n",
      "[Parallel(n_jobs=1)]: Using backend SequentialBackend with 1 concurrent workers.\n"
     ]
    },
    {
     "name": "stdout",
     "output_type": "stream",
     "text": [
      "Training time - 1s - loss 1.5066\n",
      "Validation:\n",
      "0s - loss 1.1787\n",
      "\n",
      "Epoch 15/200\n",
      "Learning rate: 0.000001\n"
     ]
    },
    {
     "name": "stderr",
     "output_type": "stream",
     "text": [
      "[Parallel(n_jobs=1)]: Done 100 out of 100 | elapsed:    1.4s finished\n",
      "[Parallel(n_jobs=1)]: Using backend SequentialBackend with 1 concurrent workers.\n"
     ]
    },
    {
     "name": "stdout",
     "output_type": "stream",
     "text": [
      "Training time - 1s - loss 1.4771\n",
      "Validation:\n",
      "0s - loss 1.1596\n",
      "\n",
      "Epoch 16/200\n",
      "Learning rate: 0.000001\n"
     ]
    },
    {
     "name": "stderr",
     "output_type": "stream",
     "text": [
      "[Parallel(n_jobs=1)]: Done 100 out of 100 | elapsed:    1.4s finished\n",
      "[Parallel(n_jobs=1)]: Using backend SequentialBackend with 1 concurrent workers.\n"
     ]
    },
    {
     "name": "stdout",
     "output_type": "stream",
     "text": [
      "Training time - 1s - loss 1.4511\n",
      "Validation:\n",
      "0s - loss 1.1417\n",
      "\n",
      "Epoch 17/200\n",
      "Learning rate: 0.000001\n"
     ]
    },
    {
     "name": "stderr",
     "output_type": "stream",
     "text": [
      "[Parallel(n_jobs=1)]: Done 100 out of 100 | elapsed:    1.4s finished\n",
      "[Parallel(n_jobs=1)]: Using backend SequentialBackend with 1 concurrent workers.\n"
     ]
    },
    {
     "name": "stdout",
     "output_type": "stream",
     "text": [
      "Training time - 1s - loss 1.4284\n",
      "Validation:\n",
      "0s - loss 1.1262\n",
      "\n",
      "Epoch 18/200\n",
      "Learning rate: 0.000001\n"
     ]
    },
    {
     "name": "stderr",
     "output_type": "stream",
     "text": [
      "[Parallel(n_jobs=1)]: Done 100 out of 100 | elapsed:    1.4s finished\n",
      "[Parallel(n_jobs=1)]: Using backend SequentialBackend with 1 concurrent workers.\n"
     ]
    },
    {
     "name": "stdout",
     "output_type": "stream",
     "text": [
      "Training time - 1s - loss 1.4082\n",
      "Validation:\n",
      "0s - loss 1.1130\n",
      "\n",
      "Epoch 19/200\n",
      "Learning rate: 0.000001\n"
     ]
    },
    {
     "name": "stderr",
     "output_type": "stream",
     "text": [
      "[Parallel(n_jobs=1)]: Done 100 out of 100 | elapsed:    1.4s finished\n",
      "[Parallel(n_jobs=1)]: Using backend SequentialBackend with 1 concurrent workers.\n"
     ]
    },
    {
     "name": "stdout",
     "output_type": "stream",
     "text": [
      "Training time - 1s - loss 1.3902\n",
      "Validation:\n",
      "0s - loss 1.1008\n",
      "\n",
      "Epoch 20/200\n",
      "Learning rate: 0.000001\n"
     ]
    },
    {
     "name": "stderr",
     "output_type": "stream",
     "text": [
      "[Parallel(n_jobs=1)]: Done 100 out of 100 | elapsed:    1.4s finished\n",
      "[Parallel(n_jobs=1)]: Using backend SequentialBackend with 1 concurrent workers.\n"
     ]
    },
    {
     "name": "stdout",
     "output_type": "stream",
     "text": [
      "Training time - 1s - loss 1.3741\n",
      "Validation:\n",
      "0s - loss 1.0893\n",
      "\n",
      "Epoch 21/200\n",
      "Learning rate: 0.000001\n"
     ]
    },
    {
     "name": "stderr",
     "output_type": "stream",
     "text": [
      "[Parallel(n_jobs=1)]: Done 100 out of 100 | elapsed:    1.4s finished\n",
      "[Parallel(n_jobs=1)]: Using backend SequentialBackend with 1 concurrent workers.\n"
     ]
    },
    {
     "name": "stdout",
     "output_type": "stream",
     "text": [
      "Training time - 1s - loss 1.3597\n",
      "Validation:\n",
      "0s - loss 1.0799\n",
      "\n",
      "Epoch 22/200\n",
      "Learning rate: 0.000001\n"
     ]
    },
    {
     "name": "stderr",
     "output_type": "stream",
     "text": [
      "[Parallel(n_jobs=1)]: Done 100 out of 100 | elapsed:    1.4s finished\n",
      "[Parallel(n_jobs=1)]: Using backend SequentialBackend with 1 concurrent workers.\n"
     ]
    },
    {
     "name": "stdout",
     "output_type": "stream",
     "text": [
      "Training time - 1s - loss 1.3466\n",
      "Validation:\n",
      "0s - loss 1.0702\n",
      "\n",
      "Epoch 23/200\n",
      "Learning rate: 0.000001\n"
     ]
    },
    {
     "name": "stderr",
     "output_type": "stream",
     "text": [
      "[Parallel(n_jobs=1)]: Done 100 out of 100 | elapsed:    1.4s finished\n",
      "[Parallel(n_jobs=1)]: Using backend SequentialBackend with 1 concurrent workers.\n"
     ]
    },
    {
     "name": "stdout",
     "output_type": "stream",
     "text": [
      "Training time - 1s - loss 1.3346\n",
      "Validation:\n",
      "0s - loss 1.0627\n",
      "\n",
      "Epoch 24/200\n",
      "Learning rate: 0.000001\n"
     ]
    },
    {
     "name": "stderr",
     "output_type": "stream",
     "text": [
      "[Parallel(n_jobs=1)]: Done 100 out of 100 | elapsed:    1.4s finished\n",
      "[Parallel(n_jobs=1)]: Using backend SequentialBackend with 1 concurrent workers.\n"
     ]
    },
    {
     "name": "stdout",
     "output_type": "stream",
     "text": [
      "Training time - 1s - loss 1.3233\n",
      "Validation:\n",
      "0s - loss 1.0554\n",
      "\n",
      "Epoch 25/200\n",
      "Learning rate: 0.000001\n"
     ]
    },
    {
     "name": "stderr",
     "output_type": "stream",
     "text": [
      "[Parallel(n_jobs=1)]: Done 100 out of 100 | elapsed:    1.4s finished\n",
      "[Parallel(n_jobs=1)]: Using backend SequentialBackend with 1 concurrent workers.\n"
     ]
    },
    {
     "name": "stdout",
     "output_type": "stream",
     "text": [
      "Training time - 1s - loss 1.3129\n",
      "Validation:\n",
      "0s - loss 1.0476\n",
      "\n",
      "Epoch 26/200\n",
      "Learning rate: 0.000001\n"
     ]
    },
    {
     "name": "stderr",
     "output_type": "stream",
     "text": [
      "[Parallel(n_jobs=1)]: Done 100 out of 100 | elapsed:    1.4s finished\n",
      "[Parallel(n_jobs=1)]: Using backend SequentialBackend with 1 concurrent workers.\n"
     ]
    },
    {
     "name": "stdout",
     "output_type": "stream",
     "text": [
      "Training time - 1s - loss 1.3031\n",
      "Validation:\n",
      "0s - loss 1.0407\n",
      "\n",
      "Epoch 27/200\n",
      "Learning rate: 0.000001\n"
     ]
    },
    {
     "name": "stderr",
     "output_type": "stream",
     "text": [
      "[Parallel(n_jobs=1)]: Done 100 out of 100 | elapsed:    1.4s finished\n",
      "[Parallel(n_jobs=1)]: Using backend SequentialBackend with 1 concurrent workers.\n"
     ]
    },
    {
     "name": "stdout",
     "output_type": "stream",
     "text": [
      "Training time - 1s - loss 1.2939\n",
      "Validation:\n",
      "0s - loss 1.0335\n",
      "\n",
      "Epoch 28/200\n",
      "Learning rate: 0.000001\n"
     ]
    },
    {
     "name": "stderr",
     "output_type": "stream",
     "text": [
      "[Parallel(n_jobs=1)]: Done 100 out of 100 | elapsed:    1.4s finished\n",
      "[Parallel(n_jobs=1)]: Using backend SequentialBackend with 1 concurrent workers.\n"
     ]
    },
    {
     "name": "stdout",
     "output_type": "stream",
     "text": [
      "Training time - 1s - loss 1.2851\n",
      "Validation:\n",
      "0s - loss 1.0274\n",
      "\n",
      "Epoch 29/200\n",
      "Learning rate: 0.000001\n"
     ]
    },
    {
     "name": "stderr",
     "output_type": "stream",
     "text": [
      "[Parallel(n_jobs=1)]: Done 100 out of 100 | elapsed:    1.4s finished\n",
      "[Parallel(n_jobs=1)]: Using backend SequentialBackend with 1 concurrent workers.\n"
     ]
    },
    {
     "name": "stdout",
     "output_type": "stream",
     "text": [
      "Training time - 1s - loss 1.2768\n",
      "Validation:\n",
      "0s - loss 1.0212\n",
      "\n",
      "Epoch 30/200\n",
      "Learning rate: 0.000001\n"
     ]
    },
    {
     "name": "stderr",
     "output_type": "stream",
     "text": [
      "[Parallel(n_jobs=1)]: Done 100 out of 100 | elapsed:    1.4s finished\n",
      "[Parallel(n_jobs=1)]: Using backend SequentialBackend with 1 concurrent workers.\n"
     ]
    },
    {
     "name": "stdout",
     "output_type": "stream",
     "text": [
      "Training time - 1s - loss 1.2687\n",
      "Validation:\n",
      "0s - loss 1.0150\n",
      "\n",
      "Epoch 31/200\n",
      "Learning rate: 0.000001\n"
     ]
    },
    {
     "name": "stderr",
     "output_type": "stream",
     "text": [
      "[Parallel(n_jobs=1)]: Done 100 out of 100 | elapsed:    1.4s finished\n",
      "[Parallel(n_jobs=1)]: Using backend SequentialBackend with 1 concurrent workers.\n"
     ]
    },
    {
     "name": "stdout",
     "output_type": "stream",
     "text": [
      "Training time - 1s - loss 1.2608\n",
      "Validation:\n",
      "0s - loss 1.0097\n",
      "\n",
      "Epoch 32/200\n",
      "Learning rate: 0.000001\n"
     ]
    },
    {
     "name": "stderr",
     "output_type": "stream",
     "text": [
      "[Parallel(n_jobs=1)]: Done 100 out of 100 | elapsed:    1.4s finished\n",
      "[Parallel(n_jobs=1)]: Using backend SequentialBackend with 1 concurrent workers.\n"
     ]
    },
    {
     "name": "stdout",
     "output_type": "stream",
     "text": [
      "Training time - 1s - loss 1.2531\n",
      "Validation:\n",
      "0s - loss 1.0048\n",
      "\n",
      "Epoch 33/200\n",
      "Learning rate: 0.000001\n"
     ]
    },
    {
     "name": "stderr",
     "output_type": "stream",
     "text": [
      "[Parallel(n_jobs=1)]: Done 100 out of 100 | elapsed:    1.4s finished\n",
      "[Parallel(n_jobs=1)]: Using backend SequentialBackend with 1 concurrent workers.\n"
     ]
    },
    {
     "name": "stdout",
     "output_type": "stream",
     "text": [
      "Training time - 1s - loss 1.2457\n",
      "Validation:\n",
      "0s - loss 0.9993\n",
      "\n",
      "Epoch 34/200\n",
      "Learning rate: 0.000001\n"
     ]
    },
    {
     "name": "stderr",
     "output_type": "stream",
     "text": [
      "[Parallel(n_jobs=1)]: Done 100 out of 100 | elapsed:    1.4s finished\n",
      "[Parallel(n_jobs=1)]: Using backend SequentialBackend with 1 concurrent workers.\n"
     ]
    },
    {
     "name": "stdout",
     "output_type": "stream",
     "text": [
      "Training time - 1s - loss 1.2387\n",
      "Validation:\n",
      "0s - loss 0.9924\n",
      "\n",
      "Epoch 35/200\n",
      "Learning rate: 0.000001\n"
     ]
    },
    {
     "name": "stderr",
     "output_type": "stream",
     "text": [
      "[Parallel(n_jobs=1)]: Done 100 out of 100 | elapsed:    1.4s finished\n",
      "[Parallel(n_jobs=1)]: Using backend SequentialBackend with 1 concurrent workers.\n"
     ]
    },
    {
     "name": "stdout",
     "output_type": "stream",
     "text": [
      "Training time - 1s - loss 1.2319\n",
      "Validation:\n",
      "0s - loss 0.9886\n",
      "\n",
      "Epoch 36/200\n",
      "Learning rate: 0.000001\n"
     ]
    },
    {
     "name": "stderr",
     "output_type": "stream",
     "text": [
      "[Parallel(n_jobs=1)]: Done 100 out of 100 | elapsed:    1.4s finished\n",
      "[Parallel(n_jobs=1)]: Using backend SequentialBackend with 1 concurrent workers.\n"
     ]
    },
    {
     "name": "stdout",
     "output_type": "stream",
     "text": [
      "Training time - 1s - loss 1.2252\n",
      "Validation:\n",
      "0s - loss 0.9849\n",
      "\n",
      "Epoch 37/200\n",
      "Learning rate: 0.000001\n"
     ]
    },
    {
     "name": "stderr",
     "output_type": "stream",
     "text": [
      "[Parallel(n_jobs=1)]: Done 100 out of 100 | elapsed:    1.4s finished\n",
      "[Parallel(n_jobs=1)]: Using backend SequentialBackend with 1 concurrent workers.\n"
     ]
    },
    {
     "name": "stdout",
     "output_type": "stream",
     "text": [
      "Training time - 1s - loss 1.2187\n",
      "Validation:\n",
      "0s - loss 0.9801\n",
      "\n",
      "Epoch 38/200\n",
      "Learning rate: 0.000001\n"
     ]
    },
    {
     "name": "stderr",
     "output_type": "stream",
     "text": [
      "[Parallel(n_jobs=1)]: Done 100 out of 100 | elapsed:    1.4s finished\n",
      "[Parallel(n_jobs=1)]: Using backend SequentialBackend with 1 concurrent workers.\n"
     ]
    },
    {
     "name": "stdout",
     "output_type": "stream",
     "text": [
      "Training time - 1s - loss 1.2123\n",
      "Validation:\n",
      "0s - loss 0.9767\n",
      "\n",
      "Epoch 39/200\n",
      "Learning rate: 0.000001\n"
     ]
    },
    {
     "name": "stderr",
     "output_type": "stream",
     "text": [
      "[Parallel(n_jobs=1)]: Done 100 out of 100 | elapsed:    1.4s finished\n",
      "[Parallel(n_jobs=1)]: Using backend SequentialBackend with 1 concurrent workers.\n"
     ]
    },
    {
     "name": "stdout",
     "output_type": "stream",
     "text": [
      "Training time - 1s - loss 1.2061\n",
      "Validation:\n",
      "0s - loss 0.9721\n",
      "\n",
      "Epoch 40/200\n",
      "Learning rate: 0.000001\n"
     ]
    },
    {
     "name": "stderr",
     "output_type": "stream",
     "text": [
      "[Parallel(n_jobs=1)]: Done 100 out of 100 | elapsed:    1.4s finished\n",
      "[Parallel(n_jobs=1)]: Using backend SequentialBackend with 1 concurrent workers.\n"
     ]
    },
    {
     "name": "stdout",
     "output_type": "stream",
     "text": [
      "Training time - 1s - loss 1.2001\n",
      "Validation:\n",
      "0s - loss 0.9670\n",
      "\n",
      "Epoch 41/200\n",
      "Learning rate: 0.000001\n"
     ]
    },
    {
     "name": "stderr",
     "output_type": "stream",
     "text": [
      "[Parallel(n_jobs=1)]: Done 100 out of 100 | elapsed:    1.4s finished\n",
      "[Parallel(n_jobs=1)]: Using backend SequentialBackend with 1 concurrent workers.\n"
     ]
    },
    {
     "name": "stdout",
     "output_type": "stream",
     "text": [
      "Training time - 1s - loss 1.1942\n",
      "Validation:\n",
      "0s - loss 0.9638\n",
      "\n",
      "Epoch 42/200\n",
      "Learning rate: 0.000001\n"
     ]
    },
    {
     "name": "stderr",
     "output_type": "stream",
     "text": [
      "[Parallel(n_jobs=1)]: Done 100 out of 100 | elapsed:    1.4s finished\n",
      "[Parallel(n_jobs=1)]: Using backend SequentialBackend with 1 concurrent workers.\n"
     ]
    },
    {
     "name": "stdout",
     "output_type": "stream",
     "text": [
      "Training time - 1s - loss 1.1884\n",
      "Validation:\n",
      "0s - loss 0.9590\n",
      "\n",
      "Epoch 43/200\n",
      "Learning rate: 0.000001\n"
     ]
    },
    {
     "name": "stderr",
     "output_type": "stream",
     "text": [
      "[Parallel(n_jobs=1)]: Done 100 out of 100 | elapsed:    1.4s finished\n",
      "[Parallel(n_jobs=1)]: Using backend SequentialBackend with 1 concurrent workers.\n"
     ]
    },
    {
     "name": "stdout",
     "output_type": "stream",
     "text": [
      "Training time - 1s - loss 1.1828\n",
      "Validation:\n",
      "0s - loss 0.9558\n",
      "\n",
      "Epoch 44/200\n",
      "Learning rate: 0.000001\n"
     ]
    },
    {
     "name": "stderr",
     "output_type": "stream",
     "text": [
      "[Parallel(n_jobs=1)]: Done 100 out of 100 | elapsed:    1.4s finished\n",
      "[Parallel(n_jobs=1)]: Using backend SequentialBackend with 1 concurrent workers.\n"
     ]
    },
    {
     "name": "stdout",
     "output_type": "stream",
     "text": [
      "Training time - 1s - loss 1.1772\n",
      "Validation:\n",
      "0s - loss 0.9530\n",
      "\n",
      "Epoch 45/200\n",
      "Learning rate: 0.000001\n"
     ]
    },
    {
     "name": "stderr",
     "output_type": "stream",
     "text": [
      "[Parallel(n_jobs=1)]: Done 100 out of 100 | elapsed:    1.4s finished\n",
      "[Parallel(n_jobs=1)]: Using backend SequentialBackend with 1 concurrent workers.\n"
     ]
    },
    {
     "name": "stdout",
     "output_type": "stream",
     "text": [
      "Training time - 1s - loss 1.1718\n",
      "Validation:\n",
      "0s - loss 0.9506\n",
      "\n",
      "Epoch 46/200\n",
      "Learning rate: 0.000001\n"
     ]
    },
    {
     "name": "stderr",
     "output_type": "stream",
     "text": [
      "[Parallel(n_jobs=1)]: Done 100 out of 100 | elapsed:    1.4s finished\n",
      "[Parallel(n_jobs=1)]: Using backend SequentialBackend with 1 concurrent workers.\n"
     ]
    },
    {
     "name": "stdout",
     "output_type": "stream",
     "text": [
      "Training time - 1s - loss 1.1664\n",
      "Validation:\n",
      "0s - loss 0.9465\n",
      "\n",
      "Epoch 47/200\n",
      "Learning rate: 0.000001\n"
     ]
    },
    {
     "name": "stderr",
     "output_type": "stream",
     "text": [
      "[Parallel(n_jobs=1)]: Done 100 out of 100 | elapsed:    1.4s finished\n",
      "[Parallel(n_jobs=1)]: Using backend SequentialBackend with 1 concurrent workers.\n"
     ]
    },
    {
     "name": "stdout",
     "output_type": "stream",
     "text": [
      "Training time - 1s - loss 1.1611\n",
      "Validation:\n",
      "0s - loss 0.9436\n",
      "\n",
      "Epoch 48/200\n",
      "Learning rate: 0.000001\n"
     ]
    },
    {
     "name": "stderr",
     "output_type": "stream",
     "text": [
      "[Parallel(n_jobs=1)]: Done 100 out of 100 | elapsed:    1.4s finished\n",
      "[Parallel(n_jobs=1)]: Using backend SequentialBackend with 1 concurrent workers.\n"
     ]
    },
    {
     "name": "stdout",
     "output_type": "stream",
     "text": [
      "Training time - 1s - loss 1.1559\n",
      "Validation:\n",
      "0s - loss 0.9393\n",
      "\n",
      "Epoch 49/200\n",
      "Learning rate: 0.000001\n"
     ]
    },
    {
     "name": "stderr",
     "output_type": "stream",
     "text": [
      "[Parallel(n_jobs=1)]: Done 100 out of 100 | elapsed:    1.4s finished\n",
      "[Parallel(n_jobs=1)]: Using backend SequentialBackend with 1 concurrent workers.\n"
     ]
    },
    {
     "name": "stdout",
     "output_type": "stream",
     "text": [
      "Training time - 1s - loss 1.1508\n",
      "Validation:\n",
      "0s - loss 0.9368\n",
      "\n",
      "Epoch 50/200\n",
      "Learning rate: 0.000001\n"
     ]
    },
    {
     "name": "stderr",
     "output_type": "stream",
     "text": [
      "[Parallel(n_jobs=1)]: Done 100 out of 100 | elapsed:    1.4s finished\n",
      "[Parallel(n_jobs=1)]: Using backend SequentialBackend with 1 concurrent workers.\n"
     ]
    },
    {
     "name": "stdout",
     "output_type": "stream",
     "text": [
      "Training time - 1s - loss 1.1458\n",
      "Validation:\n",
      "0s - loss 0.9346\n",
      "\n",
      "Epoch 51/200\n",
      "Learning rate: 0.000001\n"
     ]
    },
    {
     "name": "stderr",
     "output_type": "stream",
     "text": [
      "[Parallel(n_jobs=1)]: Done 100 out of 100 | elapsed:    1.4s finished\n",
      "[Parallel(n_jobs=1)]: Using backend SequentialBackend with 1 concurrent workers.\n"
     ]
    },
    {
     "name": "stdout",
     "output_type": "stream",
     "text": [
      "Training time - 1s - loss 1.1408\n",
      "Validation:\n",
      "0s - loss 0.9312\n",
      "\n",
      "Epoch 52/200\n",
      "Learning rate: 0.000001\n"
     ]
    },
    {
     "name": "stderr",
     "output_type": "stream",
     "text": [
      "[Parallel(n_jobs=1)]: Done 100 out of 100 | elapsed:    1.4s finished\n",
      "[Parallel(n_jobs=1)]: Using backend SequentialBackend with 1 concurrent workers.\n"
     ]
    },
    {
     "name": "stdout",
     "output_type": "stream",
     "text": [
      "Training time - 1s - loss 1.1359\n",
      "Validation:\n",
      "0s - loss 0.9285\n",
      "\n",
      "Epoch 53/200\n",
      "Learning rate: 0.000001\n"
     ]
    },
    {
     "name": "stderr",
     "output_type": "stream",
     "text": [
      "[Parallel(n_jobs=1)]: Done 100 out of 100 | elapsed:    1.4s finished\n",
      "[Parallel(n_jobs=1)]: Using backend SequentialBackend with 1 concurrent workers.\n"
     ]
    },
    {
     "name": "stdout",
     "output_type": "stream",
     "text": [
      "Training time - 1s - loss 1.1310\n",
      "Validation:\n",
      "0s - loss 0.9255\n",
      "\n",
      "Epoch 54/200\n",
      "Learning rate: 0.000001\n"
     ]
    },
    {
     "name": "stderr",
     "output_type": "stream",
     "text": [
      "[Parallel(n_jobs=1)]: Done 100 out of 100 | elapsed:    1.4s finished\n",
      "[Parallel(n_jobs=1)]: Using backend SequentialBackend with 1 concurrent workers.\n"
     ]
    },
    {
     "name": "stdout",
     "output_type": "stream",
     "text": [
      "Training time - 1s - loss 1.1262\n",
      "Validation:\n",
      "0s - loss 0.9232\n",
      "\n",
      "Epoch 55/200\n",
      "Learning rate: 0.000001\n"
     ]
    },
    {
     "name": "stderr",
     "output_type": "stream",
     "text": [
      "[Parallel(n_jobs=1)]: Done 100 out of 100 | elapsed:    1.4s finished\n",
      "[Parallel(n_jobs=1)]: Using backend SequentialBackend with 1 concurrent workers.\n"
     ]
    },
    {
     "name": "stdout",
     "output_type": "stream",
     "text": [
      "Training time - 1s - loss 1.1214\n",
      "Validation:\n",
      "0s - loss 0.9209\n",
      "\n",
      "Epoch 56/200\n",
      "Learning rate: 0.000001\n"
     ]
    },
    {
     "name": "stderr",
     "output_type": "stream",
     "text": [
      "[Parallel(n_jobs=1)]: Done 100 out of 100 | elapsed:    1.4s finished\n",
      "[Parallel(n_jobs=1)]: Using backend SequentialBackend with 1 concurrent workers.\n"
     ]
    },
    {
     "name": "stdout",
     "output_type": "stream",
     "text": [
      "Training time - 1s - loss 1.1168\n",
      "Validation:\n",
      "0s - loss 0.9179\n",
      "\n",
      "Epoch 57/200\n",
      "Learning rate: 0.000001\n"
     ]
    },
    {
     "name": "stderr",
     "output_type": "stream",
     "text": [
      "[Parallel(n_jobs=1)]: Done 100 out of 100 | elapsed:    1.4s finished\n",
      "[Parallel(n_jobs=1)]: Using backend SequentialBackend with 1 concurrent workers.\n"
     ]
    },
    {
     "name": "stdout",
     "output_type": "stream",
     "text": [
      "Training time - 1s - loss 1.1122\n",
      "Validation:\n",
      "0s - loss 0.9159\n",
      "\n",
      "Epoch 58/200\n",
      "Learning rate: 0.000001\n"
     ]
    },
    {
     "name": "stderr",
     "output_type": "stream",
     "text": [
      "[Parallel(n_jobs=1)]: Done 100 out of 100 | elapsed:    1.4s finished\n",
      "[Parallel(n_jobs=1)]: Using backend SequentialBackend with 1 concurrent workers.\n"
     ]
    },
    {
     "name": "stdout",
     "output_type": "stream",
     "text": [
      "Training time - 1s - loss 1.1078\n",
      "Validation:\n",
      "0s - loss 0.9136\n",
      "\n",
      "Epoch 59/200\n",
      "Learning rate: 0.000001\n"
     ]
    },
    {
     "name": "stderr",
     "output_type": "stream",
     "text": [
      "[Parallel(n_jobs=1)]: Done 100 out of 100 | elapsed:    1.4s finished\n",
      "[Parallel(n_jobs=1)]: Using backend SequentialBackend with 1 concurrent workers.\n"
     ]
    },
    {
     "name": "stdout",
     "output_type": "stream",
     "text": [
      "Training time - 1s - loss 1.1035\n",
      "Validation:\n",
      "0s - loss 0.9106\n",
      "\n",
      "Epoch 60/200\n",
      "Learning rate: 0.000001\n"
     ]
    },
    {
     "name": "stderr",
     "output_type": "stream",
     "text": [
      "[Parallel(n_jobs=1)]: Done 100 out of 100 | elapsed:    1.4s finished\n",
      "[Parallel(n_jobs=1)]: Using backend SequentialBackend with 1 concurrent workers.\n"
     ]
    },
    {
     "name": "stdout",
     "output_type": "stream",
     "text": [
      "Training time - 1s - loss 1.0992\n",
      "Validation:\n",
      "0s - loss 0.9100\n",
      "\n",
      "Epoch 61/200\n",
      "Learning rate: 0.000001\n"
     ]
    },
    {
     "name": "stderr",
     "output_type": "stream",
     "text": [
      "[Parallel(n_jobs=1)]: Done 100 out of 100 | elapsed:    1.4s finished\n",
      "[Parallel(n_jobs=1)]: Using backend SequentialBackend with 1 concurrent workers.\n"
     ]
    },
    {
     "name": "stdout",
     "output_type": "stream",
     "text": [
      "Training time - 1s - loss 1.0949\n",
      "Validation:\n",
      "0s - loss 0.9084\n",
      "\n",
      "Epoch 62/200\n",
      "Learning rate: 0.000001\n"
     ]
    },
    {
     "name": "stderr",
     "output_type": "stream",
     "text": [
      "[Parallel(n_jobs=1)]: Done 100 out of 100 | elapsed:    1.4s finished\n",
      "[Parallel(n_jobs=1)]: Using backend SequentialBackend with 1 concurrent workers.\n"
     ]
    },
    {
     "name": "stdout",
     "output_type": "stream",
     "text": [
      "Training time - 1s - loss 1.0907\n",
      "Validation:\n",
      "0s - loss 0.9060\n",
      "\n",
      "Epoch 63/200\n",
      "Learning rate: 0.000001\n"
     ]
    },
    {
     "name": "stderr",
     "output_type": "stream",
     "text": [
      "[Parallel(n_jobs=1)]: Done 100 out of 100 | elapsed:    1.4s finished\n",
      "[Parallel(n_jobs=1)]: Using backend SequentialBackend with 1 concurrent workers.\n"
     ]
    },
    {
     "name": "stdout",
     "output_type": "stream",
     "text": [
      "Training time - 1s - loss 1.0864\n",
      "Validation:\n",
      "0s - loss 0.9043\n",
      "\n",
      "Epoch 64/200\n",
      "Learning rate: 0.000001\n"
     ]
    },
    {
     "name": "stderr",
     "output_type": "stream",
     "text": [
      "[Parallel(n_jobs=1)]: Done 100 out of 100 | elapsed:    1.4s finished\n",
      "[Parallel(n_jobs=1)]: Using backend SequentialBackend with 1 concurrent workers.\n"
     ]
    },
    {
     "name": "stdout",
     "output_type": "stream",
     "text": [
      "Training time - 1s - loss 1.0822\n",
      "Validation:\n",
      "0s - loss 0.9013\n",
      "\n",
      "Epoch 65/200\n",
      "Learning rate: 0.000001\n"
     ]
    },
    {
     "name": "stderr",
     "output_type": "stream",
     "text": [
      "[Parallel(n_jobs=1)]: Done 100 out of 100 | elapsed:    1.4s finished\n",
      "[Parallel(n_jobs=1)]: Using backend SequentialBackend with 1 concurrent workers.\n"
     ]
    },
    {
     "name": "stdout",
     "output_type": "stream",
     "text": [
      "Training time - 1s - loss 1.0781\n",
      "Validation:\n",
      "0s - loss 0.9001\n",
      "\n",
      "Epoch 66/200\n",
      "Learning rate: 0.000001\n"
     ]
    },
    {
     "name": "stderr",
     "output_type": "stream",
     "text": [
      "[Parallel(n_jobs=1)]: Done 100 out of 100 | elapsed:    1.4s finished\n",
      "[Parallel(n_jobs=1)]: Using backend SequentialBackend with 1 concurrent workers.\n"
     ]
    },
    {
     "name": "stdout",
     "output_type": "stream",
     "text": [
      "Training time - 1s - loss 1.0741\n",
      "Validation:\n",
      "0s - loss 0.8988\n",
      "\n",
      "Epoch 67/200\n",
      "Learning rate: 0.000001\n"
     ]
    },
    {
     "name": "stderr",
     "output_type": "stream",
     "text": [
      "[Parallel(n_jobs=1)]: Done 100 out of 100 | elapsed:    1.4s finished\n",
      "[Parallel(n_jobs=1)]: Using backend SequentialBackend with 1 concurrent workers.\n"
     ]
    },
    {
     "name": "stdout",
     "output_type": "stream",
     "text": [
      "Training time - 1s - loss 1.0702\n",
      "Validation:\n",
      "0s - loss 0.8975\n",
      "\n",
      "Epoch 68/200\n",
      "Learning rate: 0.000001\n"
     ]
    },
    {
     "name": "stderr",
     "output_type": "stream",
     "text": [
      "[Parallel(n_jobs=1)]: Done 100 out of 100 | elapsed:    1.4s finished\n",
      "[Parallel(n_jobs=1)]: Using backend SequentialBackend with 1 concurrent workers.\n"
     ]
    },
    {
     "name": "stdout",
     "output_type": "stream",
     "text": [
      "Training time - 1s - loss 1.0663\n",
      "Validation:\n",
      "0s - loss 0.8970\n",
      "\n",
      "Epoch 69/200\n",
      "Learning rate: 0.000001\n"
     ]
    },
    {
     "name": "stderr",
     "output_type": "stream",
     "text": [
      "[Parallel(n_jobs=1)]: Done 100 out of 100 | elapsed:    1.4s finished\n",
      "[Parallel(n_jobs=1)]: Using backend SequentialBackend with 1 concurrent workers.\n"
     ]
    },
    {
     "name": "stdout",
     "output_type": "stream",
     "text": [
      "Training time - 1s - loss 1.0626\n",
      "Validation:\n",
      "0s - loss 0.8956\n",
      "\n",
      "Epoch 70/200\n",
      "Learning rate: 0.000001\n"
     ]
    },
    {
     "name": "stderr",
     "output_type": "stream",
     "text": [
      "[Parallel(n_jobs=1)]: Done 100 out of 100 | elapsed:    1.4s finished\n",
      "[Parallel(n_jobs=1)]: Using backend SequentialBackend with 1 concurrent workers.\n"
     ]
    },
    {
     "name": "stdout",
     "output_type": "stream",
     "text": [
      "Training time - 1s - loss 1.0589\n",
      "Validation:\n",
      "0s - loss 0.8945\n",
      "\n",
      "Epoch 71/200\n",
      "Learning rate: 0.000001\n"
     ]
    },
    {
     "name": "stderr",
     "output_type": "stream",
     "text": [
      "[Parallel(n_jobs=1)]: Done 100 out of 100 | elapsed:    1.4s finished\n",
      "[Parallel(n_jobs=1)]: Using backend SequentialBackend with 1 concurrent workers.\n"
     ]
    },
    {
     "name": "stdout",
     "output_type": "stream",
     "text": [
      "Training time - 1s - loss 1.0553\n",
      "Validation:\n",
      "0s - loss 0.8920\n",
      "\n",
      "Epoch 72/200\n",
      "Learning rate: 0.000001\n"
     ]
    },
    {
     "name": "stderr",
     "output_type": "stream",
     "text": [
      "[Parallel(n_jobs=1)]: Done 100 out of 100 | elapsed:    1.4s finished\n",
      "[Parallel(n_jobs=1)]: Using backend SequentialBackend with 1 concurrent workers.\n"
     ]
    },
    {
     "name": "stdout",
     "output_type": "stream",
     "text": [
      "Training time - 1s - loss 1.0518\n",
      "Validation:\n",
      "0s - loss 0.8916\n",
      "\n",
      "Epoch 73/200\n",
      "Learning rate: 0.000001\n"
     ]
    },
    {
     "name": "stderr",
     "output_type": "stream",
     "text": [
      "[Parallel(n_jobs=1)]: Done 100 out of 100 | elapsed:    1.4s finished\n",
      "[Parallel(n_jobs=1)]: Using backend SequentialBackend with 1 concurrent workers.\n"
     ]
    },
    {
     "name": "stdout",
     "output_type": "stream",
     "text": [
      "Training time - 1s - loss 1.0483\n",
      "Validation:\n",
      "0s - loss 0.8914\n",
      "\n",
      "Epoch 74/200\n",
      "Learning rate: 0.000001\n"
     ]
    },
    {
     "name": "stderr",
     "output_type": "stream",
     "text": [
      "[Parallel(n_jobs=1)]: Done 100 out of 100 | elapsed:    1.4s finished\n",
      "[Parallel(n_jobs=1)]: Using backend SequentialBackend with 1 concurrent workers.\n"
     ]
    },
    {
     "name": "stdout",
     "output_type": "stream",
     "text": [
      "Training time - 1s - loss 1.0448\n",
      "Validation:\n",
      "0s - loss 0.8912\n",
      "\n",
      "Epoch 75/200\n",
      "Learning rate: 0.000001\n"
     ]
    },
    {
     "name": "stderr",
     "output_type": "stream",
     "text": [
      "[Parallel(n_jobs=1)]: Done 100 out of 100 | elapsed:    1.4s finished\n",
      "[Parallel(n_jobs=1)]: Using backend SequentialBackend with 1 concurrent workers.\n"
     ]
    },
    {
     "name": "stdout",
     "output_type": "stream",
     "text": [
      "Training time - 1s - loss 1.0414\n",
      "Validation:\n",
      "0s - loss 0.8900\n",
      "\n",
      "Epoch 76/200\n",
      "Learning rate: 0.000001\n"
     ]
    },
    {
     "name": "stderr",
     "output_type": "stream",
     "text": [
      "[Parallel(n_jobs=1)]: Done 100 out of 100 | elapsed:    1.4s finished\n",
      "[Parallel(n_jobs=1)]: Using backend SequentialBackend with 1 concurrent workers.\n"
     ]
    },
    {
     "name": "stdout",
     "output_type": "stream",
     "text": [
      "Training time - 1s - loss 1.0381\n",
      "Validation:\n",
      "0s - loss 0.8895\n",
      "\n",
      "Epoch 77/200\n",
      "Learning rate: 0.000001\n"
     ]
    },
    {
     "name": "stderr",
     "output_type": "stream",
     "text": [
      "[Parallel(n_jobs=1)]: Done 100 out of 100 | elapsed:    1.4s finished\n",
      "[Parallel(n_jobs=1)]: Using backend SequentialBackend with 1 concurrent workers.\n"
     ]
    },
    {
     "name": "stdout",
     "output_type": "stream",
     "text": [
      "Training time - 1s - loss 1.0347\n",
      "Validation:\n",
      "0s - loss 0.8893\n",
      "\n",
      "Epoch 78/200\n",
      "Learning rate: 0.000001\n"
     ]
    },
    {
     "name": "stderr",
     "output_type": "stream",
     "text": [
      "[Parallel(n_jobs=1)]: Done 100 out of 100 | elapsed:    1.4s finished\n",
      "[Parallel(n_jobs=1)]: Using backend SequentialBackend with 1 concurrent workers.\n"
     ]
    },
    {
     "name": "stdout",
     "output_type": "stream",
     "text": [
      "Training time - 1s - loss 1.0314\n",
      "Validation:\n",
      "0s - loss 0.8887\n",
      "\n",
      "Epoch 79/200\n",
      "Learning rate: 0.000001\n"
     ]
    },
    {
     "name": "stderr",
     "output_type": "stream",
     "text": [
      "[Parallel(n_jobs=1)]: Done 100 out of 100 | elapsed:    1.4s finished\n",
      "[Parallel(n_jobs=1)]: Using backend SequentialBackend with 1 concurrent workers.\n"
     ]
    },
    {
     "name": "stdout",
     "output_type": "stream",
     "text": [
      "Training time - 1s - loss 1.0281\n",
      "Validation:\n",
      "0s - loss 0.8873\n",
      "\n",
      "Epoch 80/200\n",
      "Learning rate: 0.000001\n"
     ]
    },
    {
     "name": "stderr",
     "output_type": "stream",
     "text": [
      "[Parallel(n_jobs=1)]: Done 100 out of 100 | elapsed:    1.4s finished\n",
      "[Parallel(n_jobs=1)]: Using backend SequentialBackend with 1 concurrent workers.\n"
     ]
    },
    {
     "name": "stdout",
     "output_type": "stream",
     "text": [
      "Training time - 1s - loss 1.0249\n",
      "Validation:\n",
      "0s - loss 0.8870\n",
      "\n",
      "Epoch 81/200\n",
      "Learning rate: 0.000001\n"
     ]
    },
    {
     "name": "stderr",
     "output_type": "stream",
     "text": [
      "[Parallel(n_jobs=1)]: Done 100 out of 100 | elapsed:    1.4s finished\n",
      "[Parallel(n_jobs=1)]: Using backend SequentialBackend with 1 concurrent workers.\n"
     ]
    },
    {
     "name": "stdout",
     "output_type": "stream",
     "text": [
      "Training time - 1s - loss 1.0217\n",
      "Validation:\n",
      "0s - loss 0.8869\n",
      "\n",
      "Epoch 82/200\n",
      "Learning rate: 0.000001\n"
     ]
    },
    {
     "name": "stderr",
     "output_type": "stream",
     "text": [
      "[Parallel(n_jobs=1)]: Done 100 out of 100 | elapsed:    1.4s finished\n",
      "[Parallel(n_jobs=1)]: Using backend SequentialBackend with 1 concurrent workers.\n"
     ]
    },
    {
     "name": "stdout",
     "output_type": "stream",
     "text": [
      "Training time - 1s - loss 1.0186\n",
      "Validation:\n",
      "0s - loss 0.8867\n",
      "\n",
      "Epoch 83/200\n",
      "Learning rate: 0.000001\n"
     ]
    },
    {
     "name": "stderr",
     "output_type": "stream",
     "text": [
      "[Parallel(n_jobs=1)]: Done 100 out of 100 | elapsed:    1.4s finished\n",
      "[Parallel(n_jobs=1)]: Using backend SequentialBackend with 1 concurrent workers.\n"
     ]
    },
    {
     "name": "stdout",
     "output_type": "stream",
     "text": [
      "Training time - 1s - loss 1.0155\n",
      "Validation:\n",
      "0s - loss 0.8858\n",
      "\n",
      "Epoch 84/200\n",
      "Learning rate: 0.000001\n"
     ]
    },
    {
     "name": "stderr",
     "output_type": "stream",
     "text": [
      "[Parallel(n_jobs=1)]: Done 100 out of 100 | elapsed:    1.4s finished\n",
      "[Parallel(n_jobs=1)]: Using backend SequentialBackend with 1 concurrent workers.\n"
     ]
    },
    {
     "name": "stdout",
     "output_type": "stream",
     "text": [
      "Training time - 1s - loss 1.0124\n",
      "Validation:\n",
      "0s - loss 0.8859\n",
      "\n",
      "Epoch 85/200\n",
      "Learning rate: 0.000001\n"
     ]
    },
    {
     "name": "stderr",
     "output_type": "stream",
     "text": [
      "[Parallel(n_jobs=1)]: Done 100 out of 100 | elapsed:    1.4s finished\n",
      "[Parallel(n_jobs=1)]: Using backend SequentialBackend with 1 concurrent workers.\n"
     ]
    },
    {
     "name": "stdout",
     "output_type": "stream",
     "text": [
      "Training time - 1s - loss 1.0094\n",
      "Validation:\n",
      "0s - loss 0.8852\n",
      "\n",
      "Epoch 86/200\n",
      "Learning rate: 0.000001\n"
     ]
    },
    {
     "name": "stderr",
     "output_type": "stream",
     "text": [
      "[Parallel(n_jobs=1)]: Done 100 out of 100 | elapsed:    1.4s finished\n",
      "[Parallel(n_jobs=1)]: Using backend SequentialBackend with 1 concurrent workers.\n"
     ]
    },
    {
     "name": "stdout",
     "output_type": "stream",
     "text": [
      "Training time - 1s - loss 1.0064\n",
      "Validation:\n",
      "0s - loss 0.8845\n",
      "\n",
      "Epoch 87/200\n",
      "Learning rate: 0.000001\n"
     ]
    },
    {
     "name": "stderr",
     "output_type": "stream",
     "text": [
      "[Parallel(n_jobs=1)]: Done 100 out of 100 | elapsed:    1.4s finished\n",
      "[Parallel(n_jobs=1)]: Using backend SequentialBackend with 1 concurrent workers.\n"
     ]
    },
    {
     "name": "stdout",
     "output_type": "stream",
     "text": [
      "Training time - 1s - loss 1.0035\n",
      "Validation:\n",
      "0s - loss 0.8845\n",
      "\n",
      "Epoch 88/200\n",
      "Learning rate: 0.000001\n"
     ]
    },
    {
     "name": "stderr",
     "output_type": "stream",
     "text": [
      "[Parallel(n_jobs=1)]: Done 100 out of 100 | elapsed:    1.4s finished\n",
      "[Parallel(n_jobs=1)]: Using backend SequentialBackend with 1 concurrent workers.\n"
     ]
    },
    {
     "name": "stdout",
     "output_type": "stream",
     "text": [
      "Training time - 1s - loss 1.0006\n",
      "Validation:\n",
      "0s - loss 0.8838\n",
      "\n",
      "Epoch 89/200\n",
      "Learning rate: 0.000001\n"
     ]
    },
    {
     "name": "stderr",
     "output_type": "stream",
     "text": [
      "[Parallel(n_jobs=1)]: Done 100 out of 100 | elapsed:    1.4s finished\n",
      "[Parallel(n_jobs=1)]: Using backend SequentialBackend with 1 concurrent workers.\n"
     ]
    },
    {
     "name": "stdout",
     "output_type": "stream",
     "text": [
      "Training time - 1s - loss 0.9977\n",
      "Validation:\n",
      "0s - loss 0.8829\n",
      "\n",
      "Epoch 90/200\n",
      "Learning rate: 0.000001\n"
     ]
    },
    {
     "name": "stderr",
     "output_type": "stream",
     "text": [
      "[Parallel(n_jobs=1)]: Done 100 out of 100 | elapsed:    1.4s finished\n",
      "[Parallel(n_jobs=1)]: Using backend SequentialBackend with 1 concurrent workers.\n"
     ]
    },
    {
     "name": "stdout",
     "output_type": "stream",
     "text": [
      "Training time - 1s - loss 0.9949\n",
      "Validation:\n",
      "0s - loss 0.8827\n",
      "\n",
      "Epoch 91/200\n",
      "Learning rate: 0.000001\n"
     ]
    },
    {
     "name": "stderr",
     "output_type": "stream",
     "text": [
      "[Parallel(n_jobs=1)]: Done 100 out of 100 | elapsed:    1.4s finished\n",
      "[Parallel(n_jobs=1)]: Using backend SequentialBackend with 1 concurrent workers.\n"
     ]
    },
    {
     "name": "stdout",
     "output_type": "stream",
     "text": [
      "Training time - 1s - loss 0.9922\n",
      "Validation:\n",
      "0s - loss 0.8828\n",
      "\n",
      "Epoch 92/200\n",
      "Learning rate: 0.000001\n"
     ]
    },
    {
     "name": "stderr",
     "output_type": "stream",
     "text": [
      "[Parallel(n_jobs=1)]: Done 100 out of 100 | elapsed:    1.4s finished\n",
      "[Parallel(n_jobs=1)]: Using backend SequentialBackend with 1 concurrent workers.\n"
     ]
    },
    {
     "name": "stdout",
     "output_type": "stream",
     "text": [
      "Training time - 1s - loss 0.9894\n",
      "Validation:\n",
      "0s - loss 0.8824\n",
      "\n",
      "Epoch 93/200\n",
      "Learning rate: 0.000001\n"
     ]
    },
    {
     "name": "stderr",
     "output_type": "stream",
     "text": [
      "[Parallel(n_jobs=1)]: Done 100 out of 100 | elapsed:    1.4s finished\n",
      "[Parallel(n_jobs=1)]: Using backend SequentialBackend with 1 concurrent workers.\n"
     ]
    },
    {
     "name": "stdout",
     "output_type": "stream",
     "text": [
      "Training time - 1s - loss 0.9866\n",
      "Validation:\n",
      "0s - loss 0.8814\n",
      "\n",
      "Epoch 94/200\n",
      "Learning rate: 0.000001\n"
     ]
    },
    {
     "name": "stderr",
     "output_type": "stream",
     "text": [
      "[Parallel(n_jobs=1)]: Done 100 out of 100 | elapsed:    1.4s finished\n",
      "[Parallel(n_jobs=1)]: Using backend SequentialBackend with 1 concurrent workers.\n"
     ]
    },
    {
     "name": "stdout",
     "output_type": "stream",
     "text": [
      "Training time - 1s - loss 0.9840\n",
      "Validation:\n",
      "0s - loss 0.8819\n",
      "\n",
      "Epoch 95/200\n",
      "Learning rate: 0.000001\n"
     ]
    },
    {
     "name": "stderr",
     "output_type": "stream",
     "text": [
      "[Parallel(n_jobs=1)]: Done 100 out of 100 | elapsed:    1.4s finished\n",
      "[Parallel(n_jobs=1)]: Using backend SequentialBackend with 1 concurrent workers.\n"
     ]
    },
    {
     "name": "stdout",
     "output_type": "stream",
     "text": [
      "Training time - 1s - loss 0.9813\n",
      "Validation:\n",
      "0s - loss 0.8822\n",
      "\n",
      "Epoch 96/200\n",
      "Learning rate: 0.000001\n"
     ]
    },
    {
     "name": "stderr",
     "output_type": "stream",
     "text": [
      "[Parallel(n_jobs=1)]: Done 100 out of 100 | elapsed:    1.4s finished\n",
      "[Parallel(n_jobs=1)]: Using backend SequentialBackend with 1 concurrent workers.\n"
     ]
    },
    {
     "name": "stdout",
     "output_type": "stream",
     "text": [
      "Training time - 1s - loss 0.9787\n",
      "Validation:\n",
      "0s - loss 0.8820\n",
      "\n",
      "Epoch 97/200\n",
      "Learning rate: 0.000001\n"
     ]
    },
    {
     "name": "stderr",
     "output_type": "stream",
     "text": [
      "[Parallel(n_jobs=1)]: Done 100 out of 100 | elapsed:    1.4s finished\n",
      "[Parallel(n_jobs=1)]: Using backend SequentialBackend with 1 concurrent workers.\n"
     ]
    },
    {
     "name": "stdout",
     "output_type": "stream",
     "text": [
      "Training time - 1s - loss 0.9761\n",
      "Validation:\n",
      "0s - loss 0.8819\n",
      "\n",
      "Epoch 98/200\n",
      "Learning rate: 0.000001\n"
     ]
    },
    {
     "name": "stderr",
     "output_type": "stream",
     "text": [
      "[Parallel(n_jobs=1)]: Done 100 out of 100 | elapsed:    1.4s finished\n",
      "[Parallel(n_jobs=1)]: Using backend SequentialBackend with 1 concurrent workers.\n"
     ]
    },
    {
     "name": "stdout",
     "output_type": "stream",
     "text": [
      "Training time - 1s - loss 0.9736\n",
      "Validation:\n",
      "0s - loss 0.8824\n",
      "\n",
      "Epoch 99/200\n",
      "Learning rate: 0.000001\n"
     ]
    },
    {
     "name": "stderr",
     "output_type": "stream",
     "text": [
      "[Parallel(n_jobs=1)]: Done 100 out of 100 | elapsed:    1.4s finished\n",
      "[Parallel(n_jobs=1)]: Using backend SequentialBackend with 1 concurrent workers.\n"
     ]
    },
    {
     "name": "stdout",
     "output_type": "stream",
     "text": [
      "Training time - 1s - loss 0.9711\n",
      "Validation:\n",
      "0s - loss 0.8815\n",
      "\n",
      "Epoch 100/200\n",
      "Learning rate: 0.000001\n"
     ]
    },
    {
     "name": "stderr",
     "output_type": "stream",
     "text": [
      "[Parallel(n_jobs=1)]: Done 100 out of 100 | elapsed:    1.4s finished\n",
      "[Parallel(n_jobs=1)]: Using backend SequentialBackend with 1 concurrent workers.\n"
     ]
    },
    {
     "name": "stdout",
     "output_type": "stream",
     "text": [
      "Training time - 1s - loss 0.9686\n",
      "Validation:\n",
      "0s - loss 0.8816\n",
      "\n",
      "Epoch 101/200\n",
      "Learning rate: 0.000001\n"
     ]
    },
    {
     "name": "stderr",
     "output_type": "stream",
     "text": [
      "[Parallel(n_jobs=1)]: Done 100 out of 100 | elapsed:    1.4s finished\n",
      "[Parallel(n_jobs=1)]: Using backend SequentialBackend with 1 concurrent workers.\n"
     ]
    },
    {
     "name": "stdout",
     "output_type": "stream",
     "text": [
      "Training time - 1s - loss 0.9661\n",
      "Validation:\n",
      "0s - loss 0.8820\n",
      "\n",
      "Epoch 102/200\n",
      "Learning rate: 0.000001\n"
     ]
    },
    {
     "name": "stderr",
     "output_type": "stream",
     "text": [
      "[Parallel(n_jobs=1)]: Done 100 out of 100 | elapsed:    1.4s finished\n",
      "[Parallel(n_jobs=1)]: Using backend SequentialBackend with 1 concurrent workers.\n"
     ]
    },
    {
     "name": "stdout",
     "output_type": "stream",
     "text": [
      "Training time - 1s - loss 0.9636\n",
      "Validation:\n",
      "0s - loss 0.8813\n",
      "\n",
      "Epoch 103/200\n",
      "Learning rate: 0.000001\n"
     ]
    },
    {
     "name": "stderr",
     "output_type": "stream",
     "text": [
      "[Parallel(n_jobs=1)]: Done 100 out of 100 | elapsed:    1.4s finished\n",
      "[Parallel(n_jobs=1)]: Using backend SequentialBackend with 1 concurrent workers.\n"
     ]
    },
    {
     "name": "stdout",
     "output_type": "stream",
     "text": [
      "Training time - 1s - loss 0.9611\n",
      "Validation:\n",
      "0s - loss 0.8817\n",
      "\n",
      "Epoch 104/200\n",
      "Learning rate: 0.000001\n"
     ]
    },
    {
     "name": "stderr",
     "output_type": "stream",
     "text": [
      "[Parallel(n_jobs=1)]: Done 100 out of 100 | elapsed:    1.4s finished\n",
      "[Parallel(n_jobs=1)]: Using backend SequentialBackend with 1 concurrent workers.\n"
     ]
    },
    {
     "name": "stdout",
     "output_type": "stream",
     "text": [
      "Training time - 1s - loss 0.9587\n",
      "Validation:\n",
      "0s - loss 0.8822\n",
      "\n",
      "Epoch 105/200\n",
      "Learning rate: 0.000001\n"
     ]
    },
    {
     "name": "stderr",
     "output_type": "stream",
     "text": [
      "[Parallel(n_jobs=1)]: Done 100 out of 100 | elapsed:    1.4s finished\n",
      "[Parallel(n_jobs=1)]: Using backend SequentialBackend with 1 concurrent workers.\n"
     ]
    },
    {
     "name": "stdout",
     "output_type": "stream",
     "text": [
      "Training time - 1s - loss 0.9562\n",
      "Validation:\n",
      "0s - loss 0.8831\n",
      "\n",
      "Epoch 106/200\n",
      "Learning rate: 0.000001\n"
     ]
    },
    {
     "name": "stderr",
     "output_type": "stream",
     "text": [
      "[Parallel(n_jobs=1)]: Done 100 out of 100 | elapsed:    1.4s finished\n",
      "[Parallel(n_jobs=1)]: Using backend SequentialBackend with 1 concurrent workers.\n"
     ]
    },
    {
     "name": "stdout",
     "output_type": "stream",
     "text": [
      "Training time - 1s - loss 0.9539\n",
      "Validation:\n",
      "0s - loss 0.8827\n",
      "\n",
      "Epoch 107/200\n",
      "Learning rate: 0.000001\n"
     ]
    },
    {
     "name": "stderr",
     "output_type": "stream",
     "text": [
      "[Parallel(n_jobs=1)]: Done 100 out of 100 | elapsed:    1.4s finished\n",
      "[Parallel(n_jobs=1)]: Using backend SequentialBackend with 1 concurrent workers.\n"
     ]
    },
    {
     "name": "stdout",
     "output_type": "stream",
     "text": [
      "Training time - 1s - loss 0.9515\n",
      "Validation:\n",
      "0s - loss 0.8824\n",
      "\n",
      "Epoch 108/200\n",
      "Learning rate: 0.000001\n"
     ]
    },
    {
     "name": "stderr",
     "output_type": "stream",
     "text": [
      "[Parallel(n_jobs=1)]: Done 100 out of 100 | elapsed:    1.4s finished\n",
      "[Parallel(n_jobs=1)]: Using backend SequentialBackend with 1 concurrent workers.\n"
     ]
    },
    {
     "name": "stdout",
     "output_type": "stream",
     "text": [
      "Training time - 1s - loss 0.9491\n",
      "Validation:\n",
      "0s - loss 0.8837\n",
      "\n",
      "Epoch 109/200\n",
      "Learning rate: 0.000001\n"
     ]
    },
    {
     "name": "stderr",
     "output_type": "stream",
     "text": [
      "[Parallel(n_jobs=1)]: Done 100 out of 100 | elapsed:    1.4s finished\n",
      "[Parallel(n_jobs=1)]: Using backend SequentialBackend with 1 concurrent workers.\n"
     ]
    },
    {
     "name": "stdout",
     "output_type": "stream",
     "text": [
      "Training time - 1s - loss 0.9468\n",
      "Validation:\n",
      "0s - loss 0.8826\n",
      "\n",
      "Epoch 110/200\n",
      "Learning rate: 0.000001\n"
     ]
    },
    {
     "name": "stderr",
     "output_type": "stream",
     "text": [
      "[Parallel(n_jobs=1)]: Done 100 out of 100 | elapsed:    1.4s finished\n",
      "[Parallel(n_jobs=1)]: Using backend SequentialBackend with 1 concurrent workers.\n"
     ]
    },
    {
     "name": "stdout",
     "output_type": "stream",
     "text": [
      "Training time - 1s - loss 0.9444\n",
      "Validation:\n",
      "0s - loss 0.8825\n",
      "\n",
      "Epoch 111/200\n",
      "Learning rate: 0.000001\n"
     ]
    },
    {
     "name": "stderr",
     "output_type": "stream",
     "text": [
      "[Parallel(n_jobs=1)]: Done 100 out of 100 | elapsed:    1.4s finished\n",
      "[Parallel(n_jobs=1)]: Using backend SequentialBackend with 1 concurrent workers.\n"
     ]
    },
    {
     "name": "stdout",
     "output_type": "stream",
     "text": [
      "Training time - 1s - loss 0.9421\n",
      "Validation:\n",
      "0s - loss 0.8840\n",
      "\n",
      "Epoch 112/200\n",
      "Learning rate: 0.000001\n"
     ]
    },
    {
     "name": "stderr",
     "output_type": "stream",
     "text": [
      "[Parallel(n_jobs=1)]: Done 100 out of 100 | elapsed:    1.4s finished\n",
      "[Parallel(n_jobs=1)]: Using backend SequentialBackend with 1 concurrent workers.\n"
     ]
    },
    {
     "name": "stdout",
     "output_type": "stream",
     "text": [
      "Training time - 1s - loss 0.9397\n",
      "Validation:\n",
      "0s - loss 0.8850\n",
      "\n",
      "Early stopping - patience reached\n",
      "Restoring the best model\n",
      "Training started:\n",
      "\n",
      "Epoch 1/200\n",
      "Learning rate: 0.000001\n"
     ]
    },
    {
     "name": "stderr",
     "output_type": "stream",
     "text": [
      "[Parallel(n_jobs=1)]: Done 100 out of 100 | elapsed:    1.4s finished\n",
      "[Parallel(n_jobs=1)]: Using backend SequentialBackend with 1 concurrent workers.\n"
     ]
    },
    {
     "name": "stdout",
     "output_type": "stream",
     "text": [
      "Training time - 0s - loss 23.8673\n",
      "Validation:\n",
      "0s - loss 22.5574\n",
      "\n",
      "Epoch 2/200\n",
      "Learning rate: 0.000001\n"
     ]
    },
    {
     "name": "stderr",
     "output_type": "stream",
     "text": [
      "[Parallel(n_jobs=1)]: Done 100 out of 100 | elapsed:    0.3s finished\n",
      "[Parallel(n_jobs=1)]: Using backend SequentialBackend with 1 concurrent workers.\n"
     ]
    },
    {
     "name": "stdout",
     "output_type": "stream",
     "text": [
      "Training time - 0s - loss 19.4952\n",
      "Validation:\n",
      "0s - loss 17.0441\n",
      "\n",
      "Epoch 3/200\n",
      "Learning rate: 0.000001\n"
     ]
    },
    {
     "name": "stderr",
     "output_type": "stream",
     "text": [
      "[Parallel(n_jobs=1)]: Done 100 out of 100 | elapsed:    0.3s finished\n",
      "[Parallel(n_jobs=1)]: Using backend SequentialBackend with 1 concurrent workers.\n"
     ]
    },
    {
     "name": "stdout",
     "output_type": "stream",
     "text": [
      "Training time - 0s - loss 13.3987\n",
      "Validation:\n",
      "0s - loss 10.9107\n",
      "\n",
      "Epoch 4/200\n",
      "Learning rate: 0.000001\n"
     ]
    },
    {
     "name": "stderr",
     "output_type": "stream",
     "text": [
      "[Parallel(n_jobs=1)]: Done 100 out of 100 | elapsed:    0.3s finished\n",
      "[Parallel(n_jobs=1)]: Using backend SequentialBackend with 1 concurrent workers.\n"
     ]
    },
    {
     "name": "stdout",
     "output_type": "stream",
     "text": [
      "Training time - 0s - loss 7.7192\n",
      "Validation:\n",
      "0s - loss 5.9747\n",
      "\n",
      "Epoch 5/200\n",
      "Learning rate: 0.000001\n"
     ]
    },
    {
     "name": "stderr",
     "output_type": "stream",
     "text": [
      "[Parallel(n_jobs=1)]: Done 100 out of 100 | elapsed:    0.3s finished\n",
      "[Parallel(n_jobs=1)]: Using backend SequentialBackend with 1 concurrent workers.\n"
     ]
    },
    {
     "name": "stdout",
     "output_type": "stream",
     "text": [
      "Training time - 0s - loss 4.0107\n",
      "Validation:\n",
      "0s - loss 3.2504\n",
      "\n",
      "Epoch 6/200\n",
      "Learning rate: 0.000001\n"
     ]
    },
    {
     "name": "stderr",
     "output_type": "stream",
     "text": [
      "[Parallel(n_jobs=1)]: Done 100 out of 100 | elapsed:    0.3s finished\n",
      "[Parallel(n_jobs=1)]: Using backend SequentialBackend with 1 concurrent workers.\n"
     ]
    },
    {
     "name": "stdout",
     "output_type": "stream",
     "text": [
      "Training time - 0s - loss 2.6840\n",
      "Validation:\n",
      "0s - loss 2.5147\n",
      "\n",
      "Epoch 7/200\n",
      "Learning rate: 0.000001\n"
     ]
    },
    {
     "name": "stderr",
     "output_type": "stream",
     "text": [
      "[Parallel(n_jobs=1)]: Done 100 out of 100 | elapsed:    0.3s finished\n",
      "[Parallel(n_jobs=1)]: Using backend SequentialBackend with 1 concurrent workers.\n"
     ]
    },
    {
     "name": "stdout",
     "output_type": "stream",
     "text": [
      "Training time - 0s - loss 2.8111\n",
      "Validation:\n",
      "0s - loss 2.6255\n",
      "\n",
      "Epoch 8/200\n",
      "Learning rate: 0.000001\n"
     ]
    },
    {
     "name": "stderr",
     "output_type": "stream",
     "text": [
      "[Parallel(n_jobs=1)]: Done 100 out of 100 | elapsed:    0.3s finished\n",
      "[Parallel(n_jobs=1)]: Using backend SequentialBackend with 1 concurrent workers.\n"
     ]
    },
    {
     "name": "stdout",
     "output_type": "stream",
     "text": [
      "Training time - 0s - loss 3.0629\n",
      "Validation:\n",
      "0s - loss 2.6109\n",
      "\n",
      "Epoch 9/200\n",
      "Learning rate: 0.000001\n"
     ]
    },
    {
     "name": "stderr",
     "output_type": "stream",
     "text": [
      "[Parallel(n_jobs=1)]: Done 100 out of 100 | elapsed:    0.3s finished\n",
      "[Parallel(n_jobs=1)]: Using backend SequentialBackend with 1 concurrent workers.\n"
     ]
    },
    {
     "name": "stdout",
     "output_type": "stream",
     "text": [
      "Training time - 0s - loss 2.8560\n",
      "Validation:\n",
      "0s - loss 2.3333\n",
      "\n",
      "Epoch 10/200\n",
      "Learning rate: 0.000001\n"
     ]
    },
    {
     "name": "stderr",
     "output_type": "stream",
     "text": [
      "[Parallel(n_jobs=1)]: Done 100 out of 100 | elapsed:    0.3s finished\n",
      "[Parallel(n_jobs=1)]: Using backend SequentialBackend with 1 concurrent workers.\n"
     ]
    },
    {
     "name": "stdout",
     "output_type": "stream",
     "text": [
      "Training time - 0s - loss 2.4140\n",
      "Validation:\n",
      "0s - loss 2.0569\n",
      "\n",
      "Epoch 11/200\n",
      "Learning rate: 0.000001\n"
     ]
    },
    {
     "name": "stderr",
     "output_type": "stream",
     "text": [
      "[Parallel(n_jobs=1)]: Done 100 out of 100 | elapsed:    0.3s finished\n",
      "[Parallel(n_jobs=1)]: Using backend SequentialBackend with 1 concurrent workers.\n"
     ]
    },
    {
     "name": "stdout",
     "output_type": "stream",
     "text": [
      "Training time - 0s - loss 2.0712\n",
      "Validation:\n",
      "0s - loss 1.9294\n",
      "\n",
      "Epoch 12/200\n",
      "Learning rate: 0.000001\n"
     ]
    },
    {
     "name": "stderr",
     "output_type": "stream",
     "text": [
      "[Parallel(n_jobs=1)]: Done 100 out of 100 | elapsed:    0.3s finished\n",
      "[Parallel(n_jobs=1)]: Using backend SequentialBackend with 1 concurrent workers.\n"
     ]
    },
    {
     "name": "stdout",
     "output_type": "stream",
     "text": [
      "Training time - 0s - loss 1.9113\n",
      "Validation:\n",
      "0s - loss 1.9040\n",
      "\n",
      "Epoch 13/200\n",
      "Learning rate: 0.000001\n"
     ]
    },
    {
     "name": "stderr",
     "output_type": "stream",
     "text": [
      "[Parallel(n_jobs=1)]: Done 100 out of 100 | elapsed:    0.3s finished\n",
      "[Parallel(n_jobs=1)]: Using backend SequentialBackend with 1 concurrent workers.\n"
     ]
    },
    {
     "name": "stdout",
     "output_type": "stream",
     "text": [
      "Training time - 0s - loss 1.8539\n",
      "Validation:\n",
      "0s - loss 1.8924\n",
      "\n",
      "Epoch 14/200\n",
      "Learning rate: 0.000001\n"
     ]
    },
    {
     "name": "stderr",
     "output_type": "stream",
     "text": [
      "[Parallel(n_jobs=1)]: Done 100 out of 100 | elapsed:    0.3s finished\n",
      "[Parallel(n_jobs=1)]: Using backend SequentialBackend with 1 concurrent workers.\n"
     ]
    },
    {
     "name": "stdout",
     "output_type": "stream",
     "text": [
      "Training time - 0s - loss 1.8134\n",
      "Validation:\n",
      "0s - loss 1.8476\n",
      "\n",
      "Epoch 15/200\n",
      "Learning rate: 0.000001\n"
     ]
    },
    {
     "name": "stderr",
     "output_type": "stream",
     "text": [
      "[Parallel(n_jobs=1)]: Done 100 out of 100 | elapsed:    0.3s finished\n",
      "[Parallel(n_jobs=1)]: Using backend SequentialBackend with 1 concurrent workers.\n"
     ]
    },
    {
     "name": "stdout",
     "output_type": "stream",
     "text": [
      "Training time - 0s - loss 1.7572\n",
      "Validation:\n",
      "0s - loss 1.7731\n",
      "\n",
      "Epoch 16/200\n",
      "Learning rate: 0.000001\n"
     ]
    },
    {
     "name": "stderr",
     "output_type": "stream",
     "text": [
      "[Parallel(n_jobs=1)]: Done 100 out of 100 | elapsed:    0.3s finished\n",
      "[Parallel(n_jobs=1)]: Using backend SequentialBackend with 1 concurrent workers.\n"
     ]
    },
    {
     "name": "stdout",
     "output_type": "stream",
     "text": [
      "Training time - 0s - loss 1.6917\n",
      "Validation:\n",
      "0s - loss 1.6906\n",
      "\n",
      "Epoch 17/200\n",
      "Learning rate: 0.000001\n"
     ]
    },
    {
     "name": "stderr",
     "output_type": "stream",
     "text": [
      "[Parallel(n_jobs=1)]: Done 100 out of 100 | elapsed:    0.3s finished\n",
      "[Parallel(n_jobs=1)]: Using backend SequentialBackend with 1 concurrent workers.\n"
     ]
    },
    {
     "name": "stdout",
     "output_type": "stream",
     "text": [
      "Training time - 0s - loss 1.6324\n",
      "Validation:\n",
      "0s - loss 1.6188\n",
      "\n",
      "Epoch 18/200\n",
      "Learning rate: 0.000001\n"
     ]
    },
    {
     "name": "stderr",
     "output_type": "stream",
     "text": [
      "[Parallel(n_jobs=1)]: Done 100 out of 100 | elapsed:    0.3s finished\n",
      "[Parallel(n_jobs=1)]: Using backend SequentialBackend with 1 concurrent workers.\n"
     ]
    },
    {
     "name": "stdout",
     "output_type": "stream",
     "text": [
      "Training time - 0s - loss 1.5861\n",
      "Validation:\n",
      "0s - loss 1.5627\n",
      "\n",
      "Epoch 19/200\n",
      "Learning rate: 0.000001\n"
     ]
    },
    {
     "name": "stderr",
     "output_type": "stream",
     "text": [
      "[Parallel(n_jobs=1)]: Done 100 out of 100 | elapsed:    0.3s finished\n",
      "[Parallel(n_jobs=1)]: Using backend SequentialBackend with 1 concurrent workers.\n"
     ]
    },
    {
     "name": "stdout",
     "output_type": "stream",
     "text": [
      "Training time - 0s - loss 1.5514\n",
      "Validation:\n",
      "0s - loss 1.5209\n",
      "\n",
      "Epoch 20/200\n",
      "Learning rate: 0.000001\n"
     ]
    },
    {
     "name": "stderr",
     "output_type": "stream",
     "text": [
      "[Parallel(n_jobs=1)]: Done 100 out of 100 | elapsed:    0.3s finished\n",
      "[Parallel(n_jobs=1)]: Using backend SequentialBackend with 1 concurrent workers.\n"
     ]
    },
    {
     "name": "stdout",
     "output_type": "stream",
     "text": [
      "Training time - 0s - loss 1.5227\n",
      "Validation:\n",
      "0s - loss 1.4885\n",
      "\n",
      "Epoch 21/200\n",
      "Learning rate: 0.000001\n"
     ]
    },
    {
     "name": "stderr",
     "output_type": "stream",
     "text": [
      "[Parallel(n_jobs=1)]: Done 100 out of 100 | elapsed:    0.3s finished\n",
      "[Parallel(n_jobs=1)]: Using backend SequentialBackend with 1 concurrent workers.\n"
     ]
    },
    {
     "name": "stdout",
     "output_type": "stream",
     "text": [
      "Training time - 0s - loss 1.4963\n",
      "Validation:\n",
      "0s - loss 1.4622\n",
      "\n",
      "Epoch 22/200\n",
      "Learning rate: 0.000001\n"
     ]
    },
    {
     "name": "stderr",
     "output_type": "stream",
     "text": [
      "[Parallel(n_jobs=1)]: Done 100 out of 100 | elapsed:    0.3s finished\n",
      "[Parallel(n_jobs=1)]: Using backend SequentialBackend with 1 concurrent workers.\n"
     ]
    },
    {
     "name": "stdout",
     "output_type": "stream",
     "text": [
      "Training time - 0s - loss 1.4713\n",
      "Validation:\n",
      "0s - loss 1.4398\n",
      "\n",
      "Epoch 23/200\n",
      "Learning rate: 0.000001\n"
     ]
    },
    {
     "name": "stderr",
     "output_type": "stream",
     "text": [
      "[Parallel(n_jobs=1)]: Done 100 out of 100 | elapsed:    0.3s finished\n",
      "[Parallel(n_jobs=1)]: Using backend SequentialBackend with 1 concurrent workers.\n"
     ]
    },
    {
     "name": "stdout",
     "output_type": "stream",
     "text": [
      "Training time - 0s - loss 1.4483\n",
      "Validation:\n",
      "0s - loss 1.4205\n",
      "\n",
      "Epoch 24/200\n",
      "Learning rate: 0.000001\n"
     ]
    },
    {
     "name": "stderr",
     "output_type": "stream",
     "text": [
      "[Parallel(n_jobs=1)]: Done 100 out of 100 | elapsed:    0.3s finished\n",
      "[Parallel(n_jobs=1)]: Using backend SequentialBackend with 1 concurrent workers.\n"
     ]
    },
    {
     "name": "stdout",
     "output_type": "stream",
     "text": [
      "Training time - 0s - loss 1.4273\n",
      "Validation:\n",
      "0s - loss 1.4037\n",
      "\n",
      "Epoch 25/200\n",
      "Learning rate: 0.000001\n"
     ]
    },
    {
     "name": "stderr",
     "output_type": "stream",
     "text": [
      "[Parallel(n_jobs=1)]: Done 100 out of 100 | elapsed:    0.3s finished\n",
      "[Parallel(n_jobs=1)]: Using backend SequentialBackend with 1 concurrent workers.\n"
     ]
    },
    {
     "name": "stdout",
     "output_type": "stream",
     "text": [
      "Training time - 0s - loss 1.4085\n",
      "Validation:\n",
      "0s - loss 1.3884\n",
      "\n",
      "Epoch 26/200\n",
      "Learning rate: 0.000001\n"
     ]
    },
    {
     "name": "stderr",
     "output_type": "stream",
     "text": [
      "[Parallel(n_jobs=1)]: Done 100 out of 100 | elapsed:    0.3s finished\n",
      "[Parallel(n_jobs=1)]: Using backend SequentialBackend with 1 concurrent workers.\n"
     ]
    },
    {
     "name": "stdout",
     "output_type": "stream",
     "text": [
      "Training time - 0s - loss 1.3916\n",
      "Validation:\n",
      "0s - loss 1.3741\n",
      "\n",
      "Epoch 27/200\n",
      "Learning rate: 0.000001\n"
     ]
    },
    {
     "name": "stderr",
     "output_type": "stream",
     "text": [
      "[Parallel(n_jobs=1)]: Done 100 out of 100 | elapsed:    0.3s finished\n",
      "[Parallel(n_jobs=1)]: Using backend SequentialBackend with 1 concurrent workers.\n"
     ]
    },
    {
     "name": "stdout",
     "output_type": "stream",
     "text": [
      "Training time - 0s - loss 1.3760\n",
      "Validation:\n",
      "0s - loss 1.3596\n",
      "\n",
      "Epoch 28/200\n",
      "Learning rate: 0.000001\n"
     ]
    },
    {
     "name": "stderr",
     "output_type": "stream",
     "text": [
      "[Parallel(n_jobs=1)]: Done 100 out of 100 | elapsed:    0.3s finished\n",
      "[Parallel(n_jobs=1)]: Using backend SequentialBackend with 1 concurrent workers.\n"
     ]
    },
    {
     "name": "stdout",
     "output_type": "stream",
     "text": [
      "Training time - 0s - loss 1.3615\n",
      "Validation:\n",
      "0s - loss 1.3458\n",
      "\n",
      "Epoch 29/200\n",
      "Learning rate: 0.000001\n"
     ]
    },
    {
     "name": "stderr",
     "output_type": "stream",
     "text": [
      "[Parallel(n_jobs=1)]: Done 100 out of 100 | elapsed:    0.4s finished\n",
      "[Parallel(n_jobs=1)]: Using backend SequentialBackend with 1 concurrent workers.\n"
     ]
    },
    {
     "name": "stdout",
     "output_type": "stream",
     "text": [
      "Training time - 0s - loss 1.3479\n",
      "Validation:\n",
      "0s - loss 1.3326\n",
      "\n",
      "Epoch 30/200\n",
      "Learning rate: 0.000001\n"
     ]
    },
    {
     "name": "stderr",
     "output_type": "stream",
     "text": [
      "[Parallel(n_jobs=1)]: Done 100 out of 100 | elapsed:    0.3s finished\n",
      "[Parallel(n_jobs=1)]: Using backend SequentialBackend with 1 concurrent workers.\n"
     ]
    },
    {
     "name": "stdout",
     "output_type": "stream",
     "text": [
      "Training time - 0s - loss 1.3354\n",
      "Validation:\n",
      "0s - loss 1.3204\n",
      "\n",
      "Epoch 31/200\n",
      "Learning rate: 0.000001\n"
     ]
    },
    {
     "name": "stderr",
     "output_type": "stream",
     "text": [
      "[Parallel(n_jobs=1)]: Done 100 out of 100 | elapsed:    0.3s finished\n",
      "[Parallel(n_jobs=1)]: Using backend SequentialBackend with 1 concurrent workers.\n"
     ]
    },
    {
     "name": "stdout",
     "output_type": "stream",
     "text": [
      "Training time - 0s - loss 1.3237\n",
      "Validation:\n",
      "0s - loss 1.3093\n",
      "\n",
      "Epoch 32/200\n",
      "Learning rate: 0.000001\n"
     ]
    },
    {
     "name": "stderr",
     "output_type": "stream",
     "text": [
      "[Parallel(n_jobs=1)]: Done 100 out of 100 | elapsed:    0.3s finished\n",
      "[Parallel(n_jobs=1)]: Using backend SequentialBackend with 1 concurrent workers.\n"
     ]
    },
    {
     "name": "stdout",
     "output_type": "stream",
     "text": [
      "Training time - 0s - loss 1.3129\n",
      "Validation:\n",
      "0s - loss 1.2991\n",
      "\n",
      "Epoch 33/200\n",
      "Learning rate: 0.000001\n"
     ]
    },
    {
     "name": "stderr",
     "output_type": "stream",
     "text": [
      "[Parallel(n_jobs=1)]: Done 100 out of 100 | elapsed:    0.3s finished\n",
      "[Parallel(n_jobs=1)]: Using backend SequentialBackend with 1 concurrent workers.\n"
     ]
    },
    {
     "name": "stdout",
     "output_type": "stream",
     "text": [
      "Training time - 0s - loss 1.3027\n",
      "Validation:\n",
      "0s - loss 1.2898\n",
      "\n",
      "Epoch 34/200\n",
      "Learning rate: 0.000001\n"
     ]
    },
    {
     "name": "stderr",
     "output_type": "stream",
     "text": [
      "[Parallel(n_jobs=1)]: Done 100 out of 100 | elapsed:    0.3s finished\n",
      "[Parallel(n_jobs=1)]: Using backend SequentialBackend with 1 concurrent workers.\n"
     ]
    },
    {
     "name": "stdout",
     "output_type": "stream",
     "text": [
      "Training time - 0s - loss 1.2931\n",
      "Validation:\n",
      "0s - loss 1.2815\n",
      "\n",
      "Epoch 35/200\n",
      "Learning rate: 0.000001\n"
     ]
    },
    {
     "name": "stderr",
     "output_type": "stream",
     "text": [
      "[Parallel(n_jobs=1)]: Done 100 out of 100 | elapsed:    0.3s finished\n",
      "[Parallel(n_jobs=1)]: Using backend SequentialBackend with 1 concurrent workers.\n"
     ]
    },
    {
     "name": "stdout",
     "output_type": "stream",
     "text": [
      "Training time - 0s - loss 1.2840\n",
      "Validation:\n",
      "0s - loss 1.2740\n",
      "\n",
      "Epoch 36/200\n",
      "Learning rate: 0.000001\n"
     ]
    },
    {
     "name": "stderr",
     "output_type": "stream",
     "text": [
      "[Parallel(n_jobs=1)]: Done 100 out of 100 | elapsed:    0.3s finished\n",
      "[Parallel(n_jobs=1)]: Using backend SequentialBackend with 1 concurrent workers.\n"
     ]
    },
    {
     "name": "stdout",
     "output_type": "stream",
     "text": [
      "Training time - 0s - loss 1.2754\n",
      "Validation:\n",
      "0s - loss 1.2668\n",
      "\n",
      "Epoch 37/200\n",
      "Learning rate: 0.000001\n"
     ]
    },
    {
     "name": "stderr",
     "output_type": "stream",
     "text": [
      "[Parallel(n_jobs=1)]: Done 100 out of 100 | elapsed:    0.3s finished\n",
      "[Parallel(n_jobs=1)]: Using backend SequentialBackend with 1 concurrent workers.\n"
     ]
    },
    {
     "name": "stdout",
     "output_type": "stream",
     "text": [
      "Training time - 0s - loss 1.2672\n",
      "Validation:\n",
      "0s - loss 1.2602\n",
      "\n",
      "Epoch 38/200\n",
      "Learning rate: 0.000001\n"
     ]
    },
    {
     "name": "stderr",
     "output_type": "stream",
     "text": [
      "[Parallel(n_jobs=1)]: Done 100 out of 100 | elapsed:    0.3s finished\n",
      "[Parallel(n_jobs=1)]: Using backend SequentialBackend with 1 concurrent workers.\n"
     ]
    },
    {
     "name": "stdout",
     "output_type": "stream",
     "text": [
      "Training time - 0s - loss 1.2594\n",
      "Validation:\n",
      "0s - loss 1.2538\n",
      "\n",
      "Epoch 39/200\n",
      "Learning rate: 0.000001\n"
     ]
    },
    {
     "name": "stderr",
     "output_type": "stream",
     "text": [
      "[Parallel(n_jobs=1)]: Done 100 out of 100 | elapsed:    0.3s finished\n",
      "[Parallel(n_jobs=1)]: Using backend SequentialBackend with 1 concurrent workers.\n"
     ]
    },
    {
     "name": "stdout",
     "output_type": "stream",
     "text": [
      "Training time - 0s - loss 1.2520\n",
      "Validation:\n",
      "0s - loss 1.2477\n",
      "\n",
      "Epoch 40/200\n",
      "Learning rate: 0.000001\n"
     ]
    },
    {
     "name": "stderr",
     "output_type": "stream",
     "text": [
      "[Parallel(n_jobs=1)]: Done 100 out of 100 | elapsed:    0.3s finished\n",
      "[Parallel(n_jobs=1)]: Using backend SequentialBackend with 1 concurrent workers.\n"
     ]
    },
    {
     "name": "stdout",
     "output_type": "stream",
     "text": [
      "Training time - 0s - loss 1.2449\n",
      "Validation:\n",
      "0s - loss 1.2419\n",
      "\n",
      "Epoch 41/200\n",
      "Learning rate: 0.000001\n"
     ]
    },
    {
     "name": "stderr",
     "output_type": "stream",
     "text": [
      "[Parallel(n_jobs=1)]: Done 100 out of 100 | elapsed:    0.3s finished\n",
      "[Parallel(n_jobs=1)]: Using backend SequentialBackend with 1 concurrent workers.\n"
     ]
    },
    {
     "name": "stdout",
     "output_type": "stream",
     "text": [
      "Training time - 0s - loss 1.2382\n",
      "Validation:\n",
      "0s - loss 1.2367\n",
      "\n",
      "Epoch 42/200\n",
      "Learning rate: 0.000001\n"
     ]
    },
    {
     "name": "stderr",
     "output_type": "stream",
     "text": [
      "[Parallel(n_jobs=1)]: Done 100 out of 100 | elapsed:    0.3s finished\n",
      "[Parallel(n_jobs=1)]: Using backend SequentialBackend with 1 concurrent workers.\n"
     ]
    },
    {
     "name": "stdout",
     "output_type": "stream",
     "text": [
      "Training time - 0s - loss 1.2317\n",
      "Validation:\n",
      "0s - loss 1.2317\n",
      "\n",
      "Epoch 43/200\n",
      "Learning rate: 0.000001\n"
     ]
    },
    {
     "name": "stderr",
     "output_type": "stream",
     "text": [
      "[Parallel(n_jobs=1)]: Done 100 out of 100 | elapsed:    0.3s finished\n",
      "[Parallel(n_jobs=1)]: Using backend SequentialBackend with 1 concurrent workers.\n"
     ]
    },
    {
     "name": "stdout",
     "output_type": "stream",
     "text": [
      "Training time - 0s - loss 1.2255\n",
      "Validation:\n",
      "0s - loss 1.2267\n",
      "\n",
      "Epoch 44/200\n",
      "Learning rate: 0.000001\n"
     ]
    },
    {
     "name": "stderr",
     "output_type": "stream",
     "text": [
      "[Parallel(n_jobs=1)]: Done 100 out of 100 | elapsed:    0.3s finished\n",
      "[Parallel(n_jobs=1)]: Using backend SequentialBackend with 1 concurrent workers.\n"
     ]
    },
    {
     "name": "stdout",
     "output_type": "stream",
     "text": [
      "Training time - 0s - loss 1.2195\n",
      "Validation:\n",
      "0s - loss 1.2224\n",
      "\n",
      "Epoch 45/200\n",
      "Learning rate: 0.000001\n"
     ]
    },
    {
     "name": "stderr",
     "output_type": "stream",
     "text": [
      "[Parallel(n_jobs=1)]: Done 100 out of 100 | elapsed:    0.3s finished\n",
      "[Parallel(n_jobs=1)]: Using backend SequentialBackend with 1 concurrent workers.\n"
     ]
    },
    {
     "name": "stdout",
     "output_type": "stream",
     "text": [
      "Training time - 0s - loss 1.2137\n",
      "Validation:\n",
      "0s - loss 1.2185\n",
      "\n",
      "Epoch 46/200\n",
      "Learning rate: 0.000001\n"
     ]
    },
    {
     "name": "stderr",
     "output_type": "stream",
     "text": [
      "[Parallel(n_jobs=1)]: Done 100 out of 100 | elapsed:    0.3s finished\n",
      "[Parallel(n_jobs=1)]: Using backend SequentialBackend with 1 concurrent workers.\n"
     ]
    },
    {
     "name": "stdout",
     "output_type": "stream",
     "text": [
      "Training time - 0s - loss 1.2082\n",
      "Validation:\n",
      "0s - loss 1.2145\n",
      "\n",
      "Epoch 47/200\n",
      "Learning rate: 0.000001\n"
     ]
    },
    {
     "name": "stderr",
     "output_type": "stream",
     "text": [
      "[Parallel(n_jobs=1)]: Done 100 out of 100 | elapsed:    0.3s finished\n",
      "[Parallel(n_jobs=1)]: Using backend SequentialBackend with 1 concurrent workers.\n"
     ]
    },
    {
     "name": "stdout",
     "output_type": "stream",
     "text": [
      "Training time - 0s - loss 1.2028\n",
      "Validation:\n",
      "0s - loss 1.2110\n",
      "\n",
      "Epoch 48/200\n",
      "Learning rate: 0.000001\n"
     ]
    },
    {
     "name": "stderr",
     "output_type": "stream",
     "text": [
      "[Parallel(n_jobs=1)]: Done 100 out of 100 | elapsed:    0.3s finished\n",
      "[Parallel(n_jobs=1)]: Using backend SequentialBackend with 1 concurrent workers.\n"
     ]
    },
    {
     "name": "stdout",
     "output_type": "stream",
     "text": [
      "Training time - 0s - loss 1.1976\n",
      "Validation:\n",
      "0s - loss 1.2077\n",
      "\n",
      "Epoch 49/200\n",
      "Learning rate: 0.000001\n"
     ]
    },
    {
     "name": "stderr",
     "output_type": "stream",
     "text": [
      "[Parallel(n_jobs=1)]: Done 100 out of 100 | elapsed:    0.3s finished\n",
      "[Parallel(n_jobs=1)]: Using backend SequentialBackend with 1 concurrent workers.\n"
     ]
    },
    {
     "name": "stdout",
     "output_type": "stream",
     "text": [
      "Training time - 0s - loss 1.1926\n",
      "Validation:\n",
      "0s - loss 1.2047\n",
      "\n",
      "Epoch 50/200\n",
      "Learning rate: 0.000001\n"
     ]
    },
    {
     "name": "stderr",
     "output_type": "stream",
     "text": [
      "[Parallel(n_jobs=1)]: Done 100 out of 100 | elapsed:    0.3s finished\n",
      "[Parallel(n_jobs=1)]: Using backend SequentialBackend with 1 concurrent workers.\n"
     ]
    },
    {
     "name": "stdout",
     "output_type": "stream",
     "text": [
      "Training time - 0s - loss 1.1878\n",
      "Validation:\n",
      "0s - loss 1.2017\n",
      "\n",
      "Epoch 51/200\n",
      "Learning rate: 0.000001\n"
     ]
    },
    {
     "name": "stderr",
     "output_type": "stream",
     "text": [
      "[Parallel(n_jobs=1)]: Done 100 out of 100 | elapsed:    0.3s finished\n",
      "[Parallel(n_jobs=1)]: Using backend SequentialBackend with 1 concurrent workers.\n"
     ]
    },
    {
     "name": "stdout",
     "output_type": "stream",
     "text": [
      "Training time - 0s - loss 1.1831\n",
      "Validation:\n",
      "0s - loss 1.1990\n",
      "\n",
      "Epoch 52/200\n",
      "Learning rate: 0.000001\n"
     ]
    },
    {
     "name": "stderr",
     "output_type": "stream",
     "text": [
      "[Parallel(n_jobs=1)]: Done 100 out of 100 | elapsed:    0.3s finished\n",
      "[Parallel(n_jobs=1)]: Using backend SequentialBackend with 1 concurrent workers.\n"
     ]
    },
    {
     "name": "stdout",
     "output_type": "stream",
     "text": [
      "Training time - 0s - loss 1.1785\n",
      "Validation:\n",
      "0s - loss 1.1965\n",
      "\n",
      "Epoch 53/200\n",
      "Learning rate: 0.000001\n"
     ]
    },
    {
     "name": "stderr",
     "output_type": "stream",
     "text": [
      "[Parallel(n_jobs=1)]: Done 100 out of 100 | elapsed:    0.3s finished\n",
      "[Parallel(n_jobs=1)]: Using backend SequentialBackend with 1 concurrent workers.\n"
     ]
    },
    {
     "name": "stdout",
     "output_type": "stream",
     "text": [
      "Training time - 0s - loss 1.1742\n",
      "Validation:\n",
      "0s - loss 1.1942\n",
      "\n",
      "Epoch 54/200\n",
      "Learning rate: 0.000001\n"
     ]
    },
    {
     "name": "stderr",
     "output_type": "stream",
     "text": [
      "[Parallel(n_jobs=1)]: Done 100 out of 100 | elapsed:    0.3s finished\n",
      "[Parallel(n_jobs=1)]: Using backend SequentialBackend with 1 concurrent workers.\n"
     ]
    },
    {
     "name": "stdout",
     "output_type": "stream",
     "text": [
      "Training time - 0s - loss 1.1700\n",
      "Validation:\n",
      "0s - loss 1.1919\n",
      "\n",
      "Epoch 55/200\n",
      "Learning rate: 0.000001\n"
     ]
    },
    {
     "name": "stderr",
     "output_type": "stream",
     "text": [
      "[Parallel(n_jobs=1)]: Done 100 out of 100 | elapsed:    0.3s finished\n",
      "[Parallel(n_jobs=1)]: Using backend SequentialBackend with 1 concurrent workers.\n"
     ]
    },
    {
     "name": "stdout",
     "output_type": "stream",
     "text": [
      "Training time - 0s - loss 1.1659\n",
      "Validation:\n",
      "0s - loss 1.1896\n",
      "\n",
      "Epoch 56/200\n",
      "Learning rate: 0.000001\n"
     ]
    },
    {
     "name": "stderr",
     "output_type": "stream",
     "text": [
      "[Parallel(n_jobs=1)]: Done 100 out of 100 | elapsed:    0.3s finished\n",
      "[Parallel(n_jobs=1)]: Using backend SequentialBackend with 1 concurrent workers.\n"
     ]
    },
    {
     "name": "stdout",
     "output_type": "stream",
     "text": [
      "Training time - 0s - loss 1.1620\n",
      "Validation:\n",
      "0s - loss 1.1877\n",
      "\n",
      "Epoch 57/200\n",
      "Learning rate: 0.000001\n"
     ]
    },
    {
     "name": "stderr",
     "output_type": "stream",
     "text": [
      "[Parallel(n_jobs=1)]: Done 100 out of 100 | elapsed:    0.3s finished\n",
      "[Parallel(n_jobs=1)]: Using backend SequentialBackend with 1 concurrent workers.\n"
     ]
    },
    {
     "name": "stdout",
     "output_type": "stream",
     "text": [
      "Training time - 0s - loss 1.1582\n",
      "Validation:\n",
      "0s - loss 1.1857\n",
      "\n",
      "Epoch 58/200\n",
      "Learning rate: 0.000001\n"
     ]
    },
    {
     "name": "stderr",
     "output_type": "stream",
     "text": [
      "[Parallel(n_jobs=1)]: Done 100 out of 100 | elapsed:    0.3s finished\n",
      "[Parallel(n_jobs=1)]: Using backend SequentialBackend with 1 concurrent workers.\n"
     ]
    },
    {
     "name": "stdout",
     "output_type": "stream",
     "text": [
      "Training time - 0s - loss 1.1545\n",
      "Validation:\n",
      "0s - loss 1.1839\n",
      "\n",
      "Epoch 59/200\n",
      "Learning rate: 0.000001\n"
     ]
    },
    {
     "name": "stderr",
     "output_type": "stream",
     "text": [
      "[Parallel(n_jobs=1)]: Done 100 out of 100 | elapsed:    0.3s finished\n",
      "[Parallel(n_jobs=1)]: Using backend SequentialBackend with 1 concurrent workers.\n"
     ]
    },
    {
     "name": "stdout",
     "output_type": "stream",
     "text": [
      "Training time - 0s - loss 1.1508\n",
      "Validation:\n",
      "0s - loss 1.1824\n",
      "\n",
      "Epoch 60/200\n",
      "Learning rate: 0.000001\n"
     ]
    },
    {
     "name": "stderr",
     "output_type": "stream",
     "text": [
      "[Parallel(n_jobs=1)]: Done 100 out of 100 | elapsed:    0.3s finished\n",
      "[Parallel(n_jobs=1)]: Using backend SequentialBackend with 1 concurrent workers.\n"
     ]
    },
    {
     "name": "stdout",
     "output_type": "stream",
     "text": [
      "Training time - 0s - loss 1.1472\n",
      "Validation:\n",
      "0s - loss 1.1806\n",
      "\n",
      "Epoch 61/200\n",
      "Learning rate: 0.000001\n"
     ]
    },
    {
     "name": "stderr",
     "output_type": "stream",
     "text": [
      "[Parallel(n_jobs=1)]: Done 100 out of 100 | elapsed:    0.3s finished\n",
      "[Parallel(n_jobs=1)]: Using backend SequentialBackend with 1 concurrent workers.\n"
     ]
    },
    {
     "name": "stdout",
     "output_type": "stream",
     "text": [
      "Training time - 0s - loss 1.1437\n",
      "Validation:\n",
      "0s - loss 1.1792\n",
      "\n",
      "Epoch 62/200\n",
      "Learning rate: 0.000001\n"
     ]
    },
    {
     "name": "stderr",
     "output_type": "stream",
     "text": [
      "[Parallel(n_jobs=1)]: Done 100 out of 100 | elapsed:    0.3s finished\n",
      "[Parallel(n_jobs=1)]: Using backend SequentialBackend with 1 concurrent workers.\n"
     ]
    },
    {
     "name": "stdout",
     "output_type": "stream",
     "text": [
      "Training time - 0s - loss 1.1403\n",
      "Validation:\n",
      "0s - loss 1.1779\n",
      "\n",
      "Epoch 63/200\n",
      "Learning rate: 0.000001\n"
     ]
    },
    {
     "name": "stderr",
     "output_type": "stream",
     "text": [
      "[Parallel(n_jobs=1)]: Done 100 out of 100 | elapsed:    0.3s finished\n",
      "[Parallel(n_jobs=1)]: Using backend SequentialBackend with 1 concurrent workers.\n"
     ]
    },
    {
     "name": "stdout",
     "output_type": "stream",
     "text": [
      "Training time - 0s - loss 1.1370\n",
      "Validation:\n",
      "0s - loss 1.1765\n",
      "\n",
      "Epoch 64/200\n",
      "Learning rate: 0.000001\n"
     ]
    },
    {
     "name": "stderr",
     "output_type": "stream",
     "text": [
      "[Parallel(n_jobs=1)]: Done 100 out of 100 | elapsed:    0.3s finished\n",
      "[Parallel(n_jobs=1)]: Using backend SequentialBackend with 1 concurrent workers.\n"
     ]
    },
    {
     "name": "stdout",
     "output_type": "stream",
     "text": [
      "Training time - 0s - loss 1.1337\n",
      "Validation:\n",
      "0s - loss 1.1754\n",
      "\n",
      "Epoch 65/200\n",
      "Learning rate: 0.000001\n"
     ]
    },
    {
     "name": "stderr",
     "output_type": "stream",
     "text": [
      "[Parallel(n_jobs=1)]: Done 100 out of 100 | elapsed:    0.3s finished\n",
      "[Parallel(n_jobs=1)]: Using backend SequentialBackend with 1 concurrent workers.\n"
     ]
    },
    {
     "name": "stdout",
     "output_type": "stream",
     "text": [
      "Training time - 0s - loss 1.1304\n",
      "Validation:\n",
      "0s - loss 1.1744\n",
      "\n",
      "Epoch 66/200\n",
      "Learning rate: 0.000001\n"
     ]
    },
    {
     "name": "stderr",
     "output_type": "stream",
     "text": [
      "[Parallel(n_jobs=1)]: Done 100 out of 100 | elapsed:    0.3s finished\n",
      "[Parallel(n_jobs=1)]: Using backend SequentialBackend with 1 concurrent workers.\n"
     ]
    },
    {
     "name": "stdout",
     "output_type": "stream",
     "text": [
      "Training time - 0s - loss 1.1273\n",
      "Validation:\n",
      "0s - loss 1.1732\n",
      "\n",
      "Epoch 67/200\n",
      "Learning rate: 0.000001\n"
     ]
    },
    {
     "name": "stderr",
     "output_type": "stream",
     "text": [
      "[Parallel(n_jobs=1)]: Done 100 out of 100 | elapsed:    0.3s finished\n",
      "[Parallel(n_jobs=1)]: Using backend SequentialBackend with 1 concurrent workers.\n"
     ]
    },
    {
     "name": "stdout",
     "output_type": "stream",
     "text": [
      "Training time - 0s - loss 1.1241\n",
      "Validation:\n",
      "0s - loss 1.1721\n",
      "\n",
      "Epoch 68/200\n",
      "Learning rate: 0.000001\n"
     ]
    },
    {
     "name": "stderr",
     "output_type": "stream",
     "text": [
      "[Parallel(n_jobs=1)]: Done 100 out of 100 | elapsed:    0.3s finished\n",
      "[Parallel(n_jobs=1)]: Using backend SequentialBackend with 1 concurrent workers.\n"
     ]
    },
    {
     "name": "stdout",
     "output_type": "stream",
     "text": [
      "Training time - 0s - loss 1.1211\n",
      "Validation:\n",
      "0s - loss 1.1710\n",
      "\n",
      "Epoch 69/200\n",
      "Learning rate: 0.000001\n"
     ]
    },
    {
     "name": "stderr",
     "output_type": "stream",
     "text": [
      "[Parallel(n_jobs=1)]: Done 100 out of 100 | elapsed:    0.3s finished\n",
      "[Parallel(n_jobs=1)]: Using backend SequentialBackend with 1 concurrent workers.\n"
     ]
    },
    {
     "name": "stdout",
     "output_type": "stream",
     "text": [
      "Training time - 0s - loss 1.1180\n",
      "Validation:\n",
      "0s - loss 1.1701\n",
      "\n",
      "Epoch 70/200\n",
      "Learning rate: 0.000001\n"
     ]
    },
    {
     "name": "stderr",
     "output_type": "stream",
     "text": [
      "[Parallel(n_jobs=1)]: Done 100 out of 100 | elapsed:    0.3s finished\n",
      "[Parallel(n_jobs=1)]: Using backend SequentialBackend with 1 concurrent workers.\n"
     ]
    },
    {
     "name": "stdout",
     "output_type": "stream",
     "text": [
      "Training time - 0s - loss 1.1150\n",
      "Validation:\n",
      "0s - loss 1.1692\n",
      "\n",
      "Epoch 71/200\n",
      "Learning rate: 0.000001\n"
     ]
    },
    {
     "name": "stderr",
     "output_type": "stream",
     "text": [
      "[Parallel(n_jobs=1)]: Done 100 out of 100 | elapsed:    0.3s finished\n",
      "[Parallel(n_jobs=1)]: Using backend SequentialBackend with 1 concurrent workers.\n"
     ]
    },
    {
     "name": "stdout",
     "output_type": "stream",
     "text": [
      "Training time - 0s - loss 1.1121\n",
      "Validation:\n",
      "0s - loss 1.1684\n",
      "\n",
      "Epoch 72/200\n",
      "Learning rate: 0.000001\n"
     ]
    },
    {
     "name": "stderr",
     "output_type": "stream",
     "text": [
      "[Parallel(n_jobs=1)]: Done 100 out of 100 | elapsed:    0.3s finished\n",
      "[Parallel(n_jobs=1)]: Using backend SequentialBackend with 1 concurrent workers.\n"
     ]
    },
    {
     "name": "stdout",
     "output_type": "stream",
     "text": [
      "Training time - 0s - loss 1.1092\n",
      "Validation:\n",
      "0s - loss 1.1677\n",
      "\n",
      "Epoch 73/200\n",
      "Learning rate: 0.000001\n"
     ]
    },
    {
     "name": "stderr",
     "output_type": "stream",
     "text": [
      "[Parallel(n_jobs=1)]: Done 100 out of 100 | elapsed:    0.3s finished\n",
      "[Parallel(n_jobs=1)]: Using backend SequentialBackend with 1 concurrent workers.\n"
     ]
    },
    {
     "name": "stdout",
     "output_type": "stream",
     "text": [
      "Training time - 0s - loss 1.1063\n",
      "Validation:\n",
      "0s - loss 1.1671\n",
      "\n",
      "Epoch 74/200\n",
      "Learning rate: 0.000001\n"
     ]
    },
    {
     "name": "stderr",
     "output_type": "stream",
     "text": [
      "[Parallel(n_jobs=1)]: Done 100 out of 100 | elapsed:    0.3s finished\n",
      "[Parallel(n_jobs=1)]: Using backend SequentialBackend with 1 concurrent workers.\n"
     ]
    },
    {
     "name": "stdout",
     "output_type": "stream",
     "text": [
      "Training time - 0s - loss 1.1035\n",
      "Validation:\n",
      "0s - loss 1.1666\n",
      "\n",
      "Epoch 75/200\n",
      "Learning rate: 0.000001\n"
     ]
    },
    {
     "name": "stderr",
     "output_type": "stream",
     "text": [
      "[Parallel(n_jobs=1)]: Done 100 out of 100 | elapsed:    0.3s finished\n",
      "[Parallel(n_jobs=1)]: Using backend SequentialBackend with 1 concurrent workers.\n"
     ]
    },
    {
     "name": "stdout",
     "output_type": "stream",
     "text": [
      "Training time - 0s - loss 1.1008\n",
      "Validation:\n",
      "0s - loss 1.1659\n",
      "\n",
      "Epoch 76/200\n",
      "Learning rate: 0.000001\n"
     ]
    },
    {
     "name": "stderr",
     "output_type": "stream",
     "text": [
      "[Parallel(n_jobs=1)]: Done 100 out of 100 | elapsed:    0.3s finished\n",
      "[Parallel(n_jobs=1)]: Using backend SequentialBackend with 1 concurrent workers.\n"
     ]
    },
    {
     "name": "stdout",
     "output_type": "stream",
     "text": [
      "Training time - 0s - loss 1.0981\n",
      "Validation:\n",
      "0s - loss 1.1653\n",
      "\n",
      "Epoch 77/200\n",
      "Learning rate: 0.000001\n"
     ]
    },
    {
     "name": "stderr",
     "output_type": "stream",
     "text": [
      "[Parallel(n_jobs=1)]: Done 100 out of 100 | elapsed:    0.3s finished\n",
      "[Parallel(n_jobs=1)]: Using backend SequentialBackend with 1 concurrent workers.\n"
     ]
    },
    {
     "name": "stdout",
     "output_type": "stream",
     "text": [
      "Training time - 0s - loss 1.0954\n",
      "Validation:\n",
      "0s - loss 1.1649\n",
      "\n",
      "Epoch 78/200\n",
      "Learning rate: 0.000001\n"
     ]
    },
    {
     "name": "stderr",
     "output_type": "stream",
     "text": [
      "[Parallel(n_jobs=1)]: Done 100 out of 100 | elapsed:    0.3s finished\n",
      "[Parallel(n_jobs=1)]: Using backend SequentialBackend with 1 concurrent workers.\n"
     ]
    },
    {
     "name": "stdout",
     "output_type": "stream",
     "text": [
      "Training time - 0s - loss 1.0927\n",
      "Validation:\n",
      "0s - loss 1.1643\n",
      "\n",
      "Epoch 79/200\n",
      "Learning rate: 0.000001\n"
     ]
    },
    {
     "name": "stderr",
     "output_type": "stream",
     "text": [
      "[Parallel(n_jobs=1)]: Done 100 out of 100 | elapsed:    0.3s finished\n",
      "[Parallel(n_jobs=1)]: Using backend SequentialBackend with 1 concurrent workers.\n"
     ]
    },
    {
     "name": "stdout",
     "output_type": "stream",
     "text": [
      "Training time - 0s - loss 1.0901\n",
      "Validation:\n",
      "0s - loss 1.1638\n",
      "\n",
      "Epoch 80/200\n",
      "Learning rate: 0.000001\n"
     ]
    },
    {
     "name": "stderr",
     "output_type": "stream",
     "text": [
      "[Parallel(n_jobs=1)]: Done 100 out of 100 | elapsed:    0.3s finished\n",
      "[Parallel(n_jobs=1)]: Using backend SequentialBackend with 1 concurrent workers.\n"
     ]
    },
    {
     "name": "stdout",
     "output_type": "stream",
     "text": [
      "Training time - 0s - loss 1.0876\n",
      "Validation:\n",
      "0s - loss 1.1634\n",
      "\n",
      "Epoch 81/200\n",
      "Learning rate: 0.000001\n"
     ]
    },
    {
     "name": "stderr",
     "output_type": "stream",
     "text": [
      "[Parallel(n_jobs=1)]: Done 100 out of 100 | elapsed:    0.3s finished\n",
      "[Parallel(n_jobs=1)]: Using backend SequentialBackend with 1 concurrent workers.\n"
     ]
    },
    {
     "name": "stdout",
     "output_type": "stream",
     "text": [
      "Training time - 0s - loss 1.0851\n",
      "Validation:\n",
      "0s - loss 1.1630\n",
      "\n",
      "Epoch 82/200\n",
      "Learning rate: 0.000001\n"
     ]
    },
    {
     "name": "stderr",
     "output_type": "stream",
     "text": [
      "[Parallel(n_jobs=1)]: Done 100 out of 100 | elapsed:    0.3s finished\n",
      "[Parallel(n_jobs=1)]: Using backend SequentialBackend with 1 concurrent workers.\n"
     ]
    },
    {
     "name": "stdout",
     "output_type": "stream",
     "text": [
      "Training time - 0s - loss 1.0826\n",
      "Validation:\n",
      "0s - loss 1.1626\n",
      "\n",
      "Epoch 83/200\n",
      "Learning rate: 0.000001\n"
     ]
    },
    {
     "name": "stderr",
     "output_type": "stream",
     "text": [
      "[Parallel(n_jobs=1)]: Done 100 out of 100 | elapsed:    0.3s finished\n",
      "[Parallel(n_jobs=1)]: Using backend SequentialBackend with 1 concurrent workers.\n"
     ]
    },
    {
     "name": "stdout",
     "output_type": "stream",
     "text": [
      "Training time - 0s - loss 1.0802\n",
      "Validation:\n",
      "0s - loss 1.1622\n",
      "\n",
      "Epoch 84/200\n",
      "Learning rate: 0.000001\n"
     ]
    },
    {
     "name": "stderr",
     "output_type": "stream",
     "text": [
      "[Parallel(n_jobs=1)]: Done 100 out of 100 | elapsed:    0.3s finished\n",
      "[Parallel(n_jobs=1)]: Using backend SequentialBackend with 1 concurrent workers.\n"
     ]
    },
    {
     "name": "stdout",
     "output_type": "stream",
     "text": [
      "Training time - 0s - loss 1.0777\n",
      "Validation:\n",
      "0s - loss 1.1618\n",
      "\n",
      "Epoch 85/200\n",
      "Learning rate: 0.000001\n"
     ]
    },
    {
     "name": "stderr",
     "output_type": "stream",
     "text": [
      "[Parallel(n_jobs=1)]: Done 100 out of 100 | elapsed:    0.3s finished\n",
      "[Parallel(n_jobs=1)]: Using backend SequentialBackend with 1 concurrent workers.\n"
     ]
    },
    {
     "name": "stdout",
     "output_type": "stream",
     "text": [
      "Training time - 0s - loss 1.0753\n",
      "Validation:\n",
      "0s - loss 1.1616\n",
      "\n",
      "Epoch 86/200\n",
      "Learning rate: 0.000001\n"
     ]
    },
    {
     "name": "stderr",
     "output_type": "stream",
     "text": [
      "[Parallel(n_jobs=1)]: Done 100 out of 100 | elapsed:    0.3s finished\n",
      "[Parallel(n_jobs=1)]: Using backend SequentialBackend with 1 concurrent workers.\n"
     ]
    },
    {
     "name": "stdout",
     "output_type": "stream",
     "text": [
      "Training time - 0s - loss 1.0729\n",
      "Validation:\n",
      "0s - loss 1.1613\n",
      "\n",
      "Epoch 87/200\n",
      "Learning rate: 0.000001\n"
     ]
    },
    {
     "name": "stderr",
     "output_type": "stream",
     "text": [
      "[Parallel(n_jobs=1)]: Done 100 out of 100 | elapsed:    0.3s finished\n",
      "[Parallel(n_jobs=1)]: Using backend SequentialBackend with 1 concurrent workers.\n"
     ]
    },
    {
     "name": "stdout",
     "output_type": "stream",
     "text": [
      "Training time - 0s - loss 1.0706\n",
      "Validation:\n",
      "0s - loss 1.1611\n",
      "\n",
      "Epoch 88/200\n",
      "Learning rate: 0.000001\n"
     ]
    },
    {
     "name": "stderr",
     "output_type": "stream",
     "text": [
      "[Parallel(n_jobs=1)]: Done 100 out of 100 | elapsed:    0.3s finished\n",
      "[Parallel(n_jobs=1)]: Using backend SequentialBackend with 1 concurrent workers.\n"
     ]
    },
    {
     "name": "stdout",
     "output_type": "stream",
     "text": [
      "Training time - 0s - loss 1.0683\n",
      "Validation:\n",
      "0s - loss 1.1610\n",
      "\n",
      "Epoch 89/200\n",
      "Learning rate: 0.000001\n"
     ]
    },
    {
     "name": "stderr",
     "output_type": "stream",
     "text": [
      "[Parallel(n_jobs=1)]: Done 100 out of 100 | elapsed:    0.3s finished\n",
      "[Parallel(n_jobs=1)]: Using backend SequentialBackend with 1 concurrent workers.\n"
     ]
    },
    {
     "name": "stdout",
     "output_type": "stream",
     "text": [
      "Training time - 0s - loss 1.0660\n",
      "Validation:\n",
      "0s - loss 1.1608\n",
      "\n",
      "Epoch 90/200\n",
      "Learning rate: 0.000001\n"
     ]
    },
    {
     "name": "stderr",
     "output_type": "stream",
     "text": [
      "[Parallel(n_jobs=1)]: Done 100 out of 100 | elapsed:    0.3s finished\n",
      "[Parallel(n_jobs=1)]: Using backend SequentialBackend with 1 concurrent workers.\n"
     ]
    },
    {
     "name": "stdout",
     "output_type": "stream",
     "text": [
      "Training time - 0s - loss 1.0637\n",
      "Validation:\n",
      "0s - loss 1.1608\n",
      "\n",
      "Epoch 91/200\n",
      "Learning rate: 0.000001\n"
     ]
    },
    {
     "name": "stderr",
     "output_type": "stream",
     "text": [
      "[Parallel(n_jobs=1)]: Done 100 out of 100 | elapsed:    0.3s finished\n",
      "[Parallel(n_jobs=1)]: Using backend SequentialBackend with 1 concurrent workers.\n"
     ]
    },
    {
     "name": "stdout",
     "output_type": "stream",
     "text": [
      "Training time - 0s - loss 1.0614\n",
      "Validation:\n",
      "0s - loss 1.1608\n",
      "\n",
      "Epoch 92/200\n",
      "Learning rate: 0.000001\n"
     ]
    },
    {
     "name": "stderr",
     "output_type": "stream",
     "text": [
      "[Parallel(n_jobs=1)]: Done 100 out of 100 | elapsed:    0.3s finished\n",
      "[Parallel(n_jobs=1)]: Using backend SequentialBackend with 1 concurrent workers.\n"
     ]
    },
    {
     "name": "stdout",
     "output_type": "stream",
     "text": [
      "Training time - 0s - loss 1.0592\n",
      "Validation:\n",
      "0s - loss 1.1605\n",
      "\n",
      "Epoch 93/200\n",
      "Learning rate: 0.000001\n"
     ]
    },
    {
     "name": "stderr",
     "output_type": "stream",
     "text": [
      "[Parallel(n_jobs=1)]: Done 100 out of 100 | elapsed:    0.3s finished\n",
      "[Parallel(n_jobs=1)]: Using backend SequentialBackend with 1 concurrent workers.\n"
     ]
    },
    {
     "name": "stdout",
     "output_type": "stream",
     "text": [
      "Training time - 0s - loss 1.0570\n",
      "Validation:\n",
      "0s - loss 1.1604\n",
      "\n",
      "Epoch 94/200\n",
      "Learning rate: 0.000001\n"
     ]
    },
    {
     "name": "stderr",
     "output_type": "stream",
     "text": [
      "[Parallel(n_jobs=1)]: Done 100 out of 100 | elapsed:    0.4s finished\n",
      "[Parallel(n_jobs=1)]: Using backend SequentialBackend with 1 concurrent workers.\n"
     ]
    },
    {
     "name": "stdout",
     "output_type": "stream",
     "text": [
      "Training time - 0s - loss 1.0548\n",
      "Validation:\n",
      "0s - loss 1.1604\n",
      "\n",
      "Epoch 95/200\n",
      "Learning rate: 0.000001\n"
     ]
    },
    {
     "name": "stderr",
     "output_type": "stream",
     "text": [
      "[Parallel(n_jobs=1)]: Done 100 out of 100 | elapsed:    0.3s finished\n",
      "[Parallel(n_jobs=1)]: Using backend SequentialBackend with 1 concurrent workers.\n"
     ]
    },
    {
     "name": "stdout",
     "output_type": "stream",
     "text": [
      "Training time - 0s - loss 1.0526\n",
      "Validation:\n",
      "0s - loss 1.1604\n",
      "\n",
      "Epoch 96/200\n",
      "Learning rate: 0.000001\n"
     ]
    },
    {
     "name": "stderr",
     "output_type": "stream",
     "text": [
      "[Parallel(n_jobs=1)]: Done 100 out of 100 | elapsed:    0.3s finished\n",
      "[Parallel(n_jobs=1)]: Using backend SequentialBackend with 1 concurrent workers.\n"
     ]
    },
    {
     "name": "stdout",
     "output_type": "stream",
     "text": [
      "Training time - 0s - loss 1.0505\n",
      "Validation:\n",
      "0s - loss 1.1604\n",
      "\n",
      "Epoch 97/200\n",
      "Learning rate: 0.000001\n"
     ]
    },
    {
     "name": "stderr",
     "output_type": "stream",
     "text": [
      "[Parallel(n_jobs=1)]: Done 100 out of 100 | elapsed:    0.3s finished\n",
      "[Parallel(n_jobs=1)]: Using backend SequentialBackend with 1 concurrent workers.\n"
     ]
    },
    {
     "name": "stdout",
     "output_type": "stream",
     "text": [
      "Training time - 0s - loss 1.0484\n",
      "Validation:\n",
      "0s - loss 1.1605\n",
      "\n",
      "Epoch 98/200\n",
      "Learning rate: 0.000001\n"
     ]
    },
    {
     "name": "stderr",
     "output_type": "stream",
     "text": [
      "[Parallel(n_jobs=1)]: Done 100 out of 100 | elapsed:    0.3s finished\n",
      "[Parallel(n_jobs=1)]: Using backend SequentialBackend with 1 concurrent workers.\n"
     ]
    },
    {
     "name": "stdout",
     "output_type": "stream",
     "text": [
      "Training time - 0s - loss 1.0464\n",
      "Validation:\n",
      "0s - loss 1.1606\n",
      "\n",
      "Epoch 99/200\n",
      "Learning rate: 0.000001\n"
     ]
    },
    {
     "name": "stderr",
     "output_type": "stream",
     "text": [
      "[Parallel(n_jobs=1)]: Done 100 out of 100 | elapsed:    0.3s finished\n",
      "[Parallel(n_jobs=1)]: Using backend SequentialBackend with 1 concurrent workers.\n"
     ]
    },
    {
     "name": "stdout",
     "output_type": "stream",
     "text": [
      "Training time - 0s - loss 1.0443\n",
      "Validation:\n",
      "0s - loss 1.1607\n",
      "\n",
      "Epoch 100/200\n",
      "Learning rate: 0.000001\n"
     ]
    },
    {
     "name": "stderr",
     "output_type": "stream",
     "text": [
      "[Parallel(n_jobs=1)]: Done 100 out of 100 | elapsed:    0.3s finished\n",
      "[Parallel(n_jobs=1)]: Using backend SequentialBackend with 1 concurrent workers.\n"
     ]
    },
    {
     "name": "stdout",
     "output_type": "stream",
     "text": [
      "Training time - 0s - loss 1.0423\n",
      "Validation:\n",
      "0s - loss 1.1609\n",
      "\n",
      "Epoch 101/200\n",
      "Learning rate: 0.000001\n"
     ]
    },
    {
     "name": "stderr",
     "output_type": "stream",
     "text": [
      "[Parallel(n_jobs=1)]: Done 100 out of 100 | elapsed:    0.3s finished\n",
      "[Parallel(n_jobs=1)]: Using backend SequentialBackend with 1 concurrent workers.\n"
     ]
    },
    {
     "name": "stdout",
     "output_type": "stream",
     "text": [
      "Training time - 0s - loss 1.0402\n",
      "Validation:\n",
      "0s - loss 1.1608\n",
      "\n",
      "Epoch 102/200\n",
      "Learning rate: 0.000001\n"
     ]
    },
    {
     "name": "stderr",
     "output_type": "stream",
     "text": [
      "[Parallel(n_jobs=1)]: Done 100 out of 100 | elapsed:    0.3s finished\n",
      "[Parallel(n_jobs=1)]: Using backend SequentialBackend with 1 concurrent workers.\n"
     ]
    },
    {
     "name": "stdout",
     "output_type": "stream",
     "text": [
      "Training time - 0s - loss 1.0382\n",
      "Validation:\n",
      "0s - loss 1.1608\n",
      "\n",
      "Epoch 103/200\n",
      "Learning rate: 0.000001\n"
     ]
    },
    {
     "name": "stderr",
     "output_type": "stream",
     "text": [
      "[Parallel(n_jobs=1)]: Done 100 out of 100 | elapsed:    0.3s finished\n",
      "[Parallel(n_jobs=1)]: Using backend SequentialBackend with 1 concurrent workers.\n"
     ]
    },
    {
     "name": "stdout",
     "output_type": "stream",
     "text": [
      "Training time - 0s - loss 1.0362\n",
      "Validation:\n",
      "0s - loss 1.1608\n",
      "\n",
      "Epoch 104/200\n",
      "Learning rate: 0.000001\n"
     ]
    },
    {
     "name": "stderr",
     "output_type": "stream",
     "text": [
      "[Parallel(n_jobs=1)]: Done 100 out of 100 | elapsed:    0.3s finished\n",
      "[Parallel(n_jobs=1)]: Using backend SequentialBackend with 1 concurrent workers.\n"
     ]
    },
    {
     "name": "stdout",
     "output_type": "stream",
     "text": [
      "Training time - 0s - loss 1.0343\n",
      "Validation:\n",
      "0s - loss 1.1607\n",
      "\n",
      "Epoch 105/200\n",
      "Learning rate: 0.000001\n"
     ]
    },
    {
     "name": "stderr",
     "output_type": "stream",
     "text": [
      "[Parallel(n_jobs=1)]: Done 100 out of 100 | elapsed:    0.3s finished\n",
      "[Parallel(n_jobs=1)]: Using backend SequentialBackend with 1 concurrent workers.\n"
     ]
    },
    {
     "name": "stdout",
     "output_type": "stream",
     "text": [
      "Training time - 0s - loss 1.0323\n",
      "Validation:\n",
      "0s - loss 1.1608\n",
      "\n",
      "Epoch 106/200\n",
      "Learning rate: 0.000001\n"
     ]
    },
    {
     "name": "stderr",
     "output_type": "stream",
     "text": [
      "[Parallel(n_jobs=1)]: Done 100 out of 100 | elapsed:    0.3s finished\n",
      "[Parallel(n_jobs=1)]: Using backend SequentialBackend with 1 concurrent workers.\n"
     ]
    },
    {
     "name": "stdout",
     "output_type": "stream",
     "text": [
      "Training time - 0s - loss 1.0303\n",
      "Validation:\n",
      "0s - loss 1.1610\n",
      "\n",
      "Early stopping - patience reached\n",
      "Restoring the best model\n"
     ]
    },
    {
     "name": "stderr",
     "output_type": "stream",
     "text": [
      "[Parallel(n_jobs=1)]: Done 100 out of 100 | elapsed:    0.3s finished\n"
     ]
    }
   ],
   "source": [
    "device = torch.device(\"cuda\" if torch.cuda.is_available() else \"cpu\")\n",
    "optim = 'sgd'\n",
    "optim_params = {\n",
    "    'lr': 1e-6, \n",
    "    'momentum': 0.9,\n",
    "    'weight_decay': 0\n",
    "}\n",
    "epochs, patience = 200, 10\n",
    "trainer_Y0 = EnsembleTrainer(\n",
    "    model=ensemble_Y0,\n",
    "    data_generators=data_generators_Y0,\n",
    "    optim=optim,\n",
    "    optim_params=optim_params, \n",
    "    model_save_dir=None,\n",
    "    device=device,\n",
    "    epochs=epochs,\n",
    "    patience=patience\n",
    ")\n",
    "trainer_Y1 = EnsembleTrainer(\n",
    "    model=ensemble_Y1,\n",
    "    data_generators=data_generators_Y1,\n",
    "    optim=optim,\n",
    "    optim_params=optim_params, \n",
    "    model_save_dir=None,\n",
    "    device=device,\n",
    "    epochs=epochs,\n",
    "    patience=patience\n",
    ")\n",
    "trainer_Y0.train()\n",
    "trainer_Y1.train()"
   ]
  },
  {
   "cell_type": "code",
   "execution_count": 9,
   "id": "6ccc1616",
   "metadata": {},
   "outputs": [
    {
     "name": "stdout",
     "output_type": "stream",
     "text": [
      "PEHE:             4.4211\n"
     ]
    }
   ],
   "source": [
    "mu0_test_pred, std0_test_pred, y0_test_true = trainer_Y0.predict()\n",
    "mu1_test_pred, std1_test_pred, y1_test_true = trainer_Y1.predict()\n",
    "mu_test_pred = mu1_test_pred - mu0_test_pred\n",
    "\n",
    "# PEHE\n",
    "pehe_test = np.sqrt(np.mean((mu_test_pred - mu_test) ** 2))\n",
    "print('PEHE:             %.4f' % (pehe_test))"
   ]
  }
 ],
 "metadata": {
  "kernelspec": {
   "display_name": "Python 3 (ipykernel)",
   "language": "python",
   "name": "python3"
  },
  "language_info": {
   "codemirror_mode": {
    "name": "ipython",
    "version": 3
   },
   "file_extension": ".py",
   "mimetype": "text/x-python",
   "name": "python",
   "nbconvert_exporter": "python",
   "pygments_lexer": "ipython3",
   "version": "3.9.10"
  }
 },
 "nbformat": 4,
 "nbformat_minor": 5
}
