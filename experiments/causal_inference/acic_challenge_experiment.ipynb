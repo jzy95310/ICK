{
 "cells": [
  {
   "cell_type": "code",
   "execution_count": 1,
   "id": "02884af0",
   "metadata": {},
   "outputs": [
    {
     "name": "stderr",
     "output_type": "stream",
     "text": [
      "<frozen importlib._bootstrap>:228: RuntimeWarning: scipy._lib.messagestream.MessageStream size changed, may indicate binary incompatibility. Expected 56 from C header, got 64 from PyObject\n"
     ]
    }
   ],
   "source": [
    "import os, sys\n",
    "sys.path.insert(0, '../../')\n",
    "import numpy as np\n",
    "import pandas as pd\n",
    "from sklearn.preprocessing import StandardScaler\n",
    "\n",
    "from kernels.nn import ImplicitDenseNetKernel\n",
    "from model.ick import ICK\n",
    "from model.ick_cmgp import ICK_CMGP\n",
    "from utils.train import CMGPEnsembleTrainer\n",
    "from utils.losses import *\n",
    "from utils.helpers import *\n",
    "\n",
    "# To make this notebook's output stable across runs\n",
    "np.random.seed(2020)\n",
    "torch.manual_seed(2020)\n",
    "torch.cuda.manual_seed(2020)\n",
    "torch.cuda.manual_seed_all(2020)\n",
    "torch.backends.cudnn.deterministic = True\n",
    "torch.backends.cudnn.benchmark = False"
   ]
  },
  {
   "cell_type": "markdown",
   "id": "77ed5ff1",
   "metadata": {},
   "source": [
    "# 1. Load and preprocess data"
   ]
  },
  {
   "cell_type": "code",
   "execution_count": 2,
   "id": "69dc4de0",
   "metadata": {},
   "outputs": [],
   "source": [
    "N_train = 200   # The original CMGP framework does not support large datasets so we limit the dataset size\n",
    "N_test = 800\n",
    "train_dir = '../../data/ACIC_challenge/high_dimensional_datasets/'\n",
    "train_filenames = [x for x in os.listdir(train_dir) if x.split('.')[-1] == 'csv']\n",
    "train_df = pd.concat([pd.read_csv(train_dir+x) for x in train_filenames], ignore_index=True)\n",
    "test_df = pd.read_csv('../../data/ACIC_challenge/TestDatasets_highD/highDim_testdataset1.csv')\n",
    "test_eval_df = pd.read_csv('../../data/ACIC_challenge/TestDatasets_highD/highDim_testdataset1_cf.csv')\n",
    "for c in train_df.columns:\n",
    "    if c != 'Y' and c != 'A':\n",
    "        scaler = StandardScaler()\n",
    "        train_df[c] = scaler.fit_transform(train_df[c].to_numpy().reshape(-1,1)).reshape(-1)\n",
    "for c in test_df.columns:\n",
    "    if c != 'Y' and c != 'A':\n",
    "        scaler = StandardScaler()\n",
    "        test_df[c] = scaler.fit_transform(test_df[c].to_numpy().reshape(-1,1)).reshape(-1)\n",
    "\n",
    "# Training data\n",
    "X_train = train_df.to_numpy()[:N_train, 2:]\n",
    "T_train = train_df.to_numpy()[:N_train, 1][:,None]\n",
    "Y_train = train_df.to_numpy()[:N_train, 0][:,None]\n",
    "\n",
    "# Test data\n",
    "X_test = test_df.to_numpy()[:N_test, 2:]\n",
    "T_test = test_df.to_numpy()[:N_test, 1][:,None]\n",
    "Y_test = test_df.to_numpy()[:N_test, 0][:,None]\n",
    "mu0_test = test_eval_df.to_numpy()[:N_test, -1][:,None]\n",
    "mu1_test = test_eval_df.to_numpy()[:N_test, -2][:,None]\n",
    "mu_test = mu1_test - mu0_test\n",
    "\n",
    "# Initialize dataloaders\n",
    "data_train = [X_train, T_train]\n",
    "data_test = [X_test, T_test]\n",
    "data_generators = create_generators_from_data(data_train, Y_train, data_test, Y_test, \n",
    "                                              train_batch_size=256, test_batch_size=1000)"
   ]
  },
  {
   "cell_type": "markdown",
   "id": "5f1160d6",
   "metadata": {},
   "source": [
    "# 2. Define ICK-CMGP model"
   ]
  },
  {
   "cell_type": "code",
   "execution_count": 3,
   "id": "c57563d4",
   "metadata": {},
   "outputs": [],
   "source": [
    "alpha11, alpha12, alpha13 = 0.1, 0.1, 1.0\n",
    "alpha21, alpha22, alpha23 = 0.1, 0.1, 1.0\n",
    "num_estimators = 10\n",
    "\n",
    "ensemble = []\n",
    "for _ in range(num_estimators):\n",
    "    f11 = ICK(\n",
    "        kernel_assignment=['ImplicitDenseNetKernel'],\n",
    "        kernel_params={\n",
    "            'ImplicitDenseNetKernel':{\n",
    "                'input_dim': X_train.shape[1],\n",
    "                'latent_feature_dim': 512,\n",
    "                'num_blocks': 1, \n",
    "                'num_layers_per_block': 1, \n",
    "                'num_units': 512, \n",
    "                'activation': 'relu'\n",
    "            }\n",
    "        }\n",
    "    )\n",
    "    f12 = ICK(\n",
    "        kernel_assignment=['ImplicitDenseNetKernel'],\n",
    "        kernel_params={\n",
    "            'ImplicitDenseNetKernel':{\n",
    "                'input_dim': X_train.shape[1],\n",
    "                'latent_feature_dim': 512,\n",
    "                'num_blocks': 1, \n",
    "                'num_layers_per_block': 1, \n",
    "                'num_units': 512, \n",
    "                'activation': 'relu'\n",
    "            }\n",
    "        }\n",
    "    )\n",
    "    f13 = ICK(\n",
    "        kernel_assignment=['ImplicitDenseNetKernel'],\n",
    "        kernel_params={\n",
    "            'ImplicitDenseNetKernel':{\n",
    "                'input_dim': X_train.shape[1],\n",
    "                'latent_feature_dim': 512,\n",
    "                'num_blocks': 1, \n",
    "                'num_layers_per_block': 1, \n",
    "                'num_units': 512, \n",
    "                'activation': 'relu'\n",
    "            }\n",
    "        }\n",
    "    )\n",
    "    f21 = ICK(\n",
    "        kernel_assignment=['ImplicitDenseNetKernel'],\n",
    "        kernel_params={\n",
    "            'ImplicitDenseNetKernel':{\n",
    "                'input_dim': X_train.shape[1],\n",
    "                'latent_feature_dim': 512,\n",
    "                'num_blocks': 1, \n",
    "                'num_layers_per_block': 1, \n",
    "                'num_units': 512, \n",
    "                'activation': 'relu'\n",
    "            }\n",
    "        }\n",
    "    )\n",
    "    f22 = ICK(\n",
    "        kernel_assignment=['ImplicitDenseNetKernel'],\n",
    "        kernel_params={\n",
    "            'ImplicitDenseNetKernel':{\n",
    "                'input_dim': X_train.shape[1],\n",
    "                'latent_feature_dim': 512,\n",
    "                'num_blocks': 1, \n",
    "                'num_layers_per_block': 1, \n",
    "                'num_units': 512, \n",
    "                'activation': 'relu'\n",
    "            }\n",
    "        }\n",
    "    )\n",
    "    f23 = ICK(\n",
    "        kernel_assignment=['ImplicitDenseNetKernel'],\n",
    "        kernel_params={\n",
    "            'ImplicitDenseNetKernel':{\n",
    "                'input_dim': X_train.shape[1],\n",
    "                'latent_feature_dim': 512,\n",
    "                'num_blocks': 1, \n",
    "                'num_layers_per_block': 1, \n",
    "                'num_units': 512, \n",
    "                'activation': 'relu'\n",
    "            }\n",
    "        }\n",
    "    )\n",
    "    baselearner = ICK_CMGP(\n",
    "        control_components=[f11,f21], treatment_components=[f12,f22], shared_components=[f13,f23],\n",
    "        control_coeffs=[alpha11,alpha21], treatment_coeffs=[alpha12,alpha22], shared_coeffs=[alpha13,alpha23], \n",
    "        coeff_trainable=True, output_binary=True\n",
    "    )\n",
    "    ensemble.append(baselearner)"
   ]
  },
  {
   "cell_type": "markdown",
   "id": "cf2cbd22",
   "metadata": {},
   "source": [
    "# 3. Training and evaluation of ICK-CMGP model"
   ]
  },
  {
   "cell_type": "code",
   "execution_count": null,
   "id": "cb138b85",
   "metadata": {},
   "outputs": [],
   "source": [
    "device = torch.device(\"cuda\" if torch.cuda.is_available() else \"cpu\")\n",
    "optim = 'sgd'\n",
    "optim_params = {\n",
    "    'lr': 5e-3, \n",
    "    'momentum': 0.99,\n",
    "    'weight_decay': 0.00\n",
    "}\n",
    "epochs, patience = 1000, 10\n",
    "trainer = CMGPEnsembleTrainer(\n",
    "    model=ensemble,\n",
    "    data_generators=data_generators,\n",
    "    optim=optim,\n",
    "    optim_params=optim_params, \n",
    "    model_save_dir=None,\n",
    "    device=device,\n",
    "    epochs=epochs,\n",
    "    patience=patience, \n",
    "    treatment_index=1   # The index of \"T_train\" in \"data_train\" is 1\n",
    ")\n",
    "trainer.train()"
   ]
  },
  {
   "cell_type": "code",
   "execution_count": 5,
   "id": "4d31efdb",
   "metadata": {},
   "outputs": [
    {
     "name": "stdout",
     "output_type": "stream",
     "text": [
      "PEHE:             0.1543\n"
     ]
    }
   ],
   "source": [
    "mean_test_pred, std_test_pred, y_test_true = trainer.predict()\n",
    "mu_test_pred = mean_test_pred[:,1] - mean_test_pred[:,0]\n",
    "\n",
    "# PEHE\n",
    "pehe_test = np.sqrt(np.mean((mu_test_pred - mu_test) ** 2))\n",
    "print('PEHE:             %.4f' % (pehe_test))"
   ]
  },
  {
   "cell_type": "markdown",
   "id": "5827dcf5",
   "metadata": {},
   "source": [
    "# 4. Apply original CMGP framework on the same dataset"
   ]
  },
  {
   "cell_type": "code",
   "execution_count": 3,
   "id": "28dd846f",
   "metadata": {},
   "outputs": [
    {
     "name": "stderr",
     "output_type": "stream",
     "text": [
      " /Users/a45329/miniconda/envs/zj63/lib/python3.9/site-packages/GPy/kern/src/stationary.py:243: RuntimeWarning:invalid value encountered in divide\n",
      " /Users/a45329/miniconda/envs/zj63/lib/python3.9/site-packages/GPy/kern/src/stationary.py:137: RuntimeWarning:overflow encountered in square\n",
      " /Users/a45329/miniconda/envs/zj63/lib/python3.9/site-packages/GPy/kern/src/stationary.py:138: RuntimeWarning:invalid value encountered in add\n",
      " /Users/a45329/miniconda/envs/zj63/lib/python3.9/site-packages/GPy/kern/src/rbf.py:76: RuntimeWarning:invalid value encountered in multiply\n",
      " /Users/a45329/miniconda/envs/zj63/lib/python3.9/site-packages/GPy/kern/src/stationary.py:166: RuntimeWarning:overflow encountered in divide\n"
     ]
    },
    {
     "name": "stdout",
     "output_type": "stream",
     "text": [
      "PEHE:             0.1551\n"
     ]
    }
   ],
   "source": [
    "from benchmarks.cmgp_modified import CMGP\n",
    "cmgp_model = CMGP(X_train, T_train, Y_train)\n",
    "mu0_test_pred, mu1_test_pred = cmgp_model.predict(X_test, return_var=False)\n",
    "mu_test_pred = mu1_test_pred - mu0_test_pred\n",
    "\n",
    "# PEHE\n",
    "pehe_test = np.sqrt(np.mean((mu_test_pred - mu_test) ** 2))\n",
    "print('PEHE:             %.4f' % (pehe_test))"
   ]
  }
 ],
 "metadata": {
  "kernelspec": {
   "display_name": "Python 3 (ipykernel)",
   "language": "python",
   "name": "python3"
  },
  "language_info": {
   "codemirror_mode": {
    "name": "ipython",
    "version": 3
   },
   "file_extension": ".py",
   "mimetype": "text/x-python",
   "name": "python",
   "nbconvert_exporter": "python",
   "pygments_lexer": "ipython3",
   "version": "3.9.10"
  }
 },
 "nbformat": 4,
 "nbformat_minor": 5
}
